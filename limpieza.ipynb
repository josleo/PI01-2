{
 "cells": [
  {
   "cell_type": "markdown",
   "metadata": {},
   "source": [
    "importamos las librerias necesarias"
   ]
  },
  {
   "cell_type": "code",
   "execution_count": 1,
   "metadata": {},
   "outputs": [],
   "source": [
    "import pandas as pd\n",
    "import numpy as np\n",
    "import matplotlib.pyplot as plt # nos ayudara a graficar \n",
    "import seaborn as sns\n",
    "from sklearn.model_selection import train_test_split # usaremos para separar los datos de  train y test\n",
    "from sklearn import metrics\n",
    "from sklearn.linear_model import LogisticRegression # improtamos el modelo logistico \n",
    "\n",
    "#Importamos los paquetes\n",
    "from sklearn.preprocessing import StandardScaler #noa ayudara para scalar los datos \n",
    "\n",
    "from sklearn.metrics import confusion_matrix, classification_report  #nos ayudara a mostrar la matrix de confusion \n",
    "\n",
    "from imblearn.over_sampling import RandomOverSampler, SMOTE\n",
    "from imblearn.over_sampling import SMOTE  # nos ayudara a balancear nuestros datos \n",
    "\n",
    "from sklearn.preprocessing import MinMaxScaler"
   ]
  },
  {
   "cell_type": "markdown",
   "metadata": {},
   "source": [
    "damos un vistado al archvivo E-Commerce_test.xlsx y comprobamos que no tiene ningun dato faltante "
   ]
  },
  {
   "cell_type": "code",
   "execution_count": 2,
   "metadata": {},
   "outputs": [
    {
     "name": "stdout",
     "output_type": "stream",
     "text": [
      "<class 'pandas.core.frame.DataFrame'>\n",
      "RangeIndex: 2000 entries, 0 to 1999\n",
      "Data columns (total 11 columns):\n",
      " #   Column               Non-Null Count  Dtype \n",
      "---  ------               --------------  ----- \n",
      " 0   ID                   2000 non-null   int64 \n",
      " 1   Warehouse_block      2000 non-null   object\n",
      " 2   Mode_of_Shipment     2000 non-null   object\n",
      " 3   Customer_care_calls  2000 non-null   int64 \n",
      " 4   Customer_rating      2000 non-null   int64 \n",
      " 5   Cost_of_the_Product  2000 non-null   int64 \n",
      " 6   Prior_purchases      2000 non-null   int64 \n",
      " 7   Product_importance   2000 non-null   object\n",
      " 8   Gender               2000 non-null   object\n",
      " 9   Discount_offered     2000 non-null   int64 \n",
      " 10  Weight_in_gms        2000 non-null   int64 \n",
      "dtypes: int64(7), object(4)\n",
      "memory usage: 172.0+ KB\n"
     ]
    }
   ],
   "source": [
    "df_test = pd.read_excel(\"..\\PI01-2\\E-Commerce_test.xlsx\")\n",
    "df_test.info()\n"
   ]
  },
  {
   "cell_type": "markdown",
   "metadata": {},
   "source": [
    "damos un vistado al archvivo E-Commerce_test.xlsx y comprobamos que no tiene ningun dato faltante "
   ]
  },
  {
   "cell_type": "code",
   "execution_count": 3,
   "metadata": {},
   "outputs": [
    {
     "name": "stdout",
     "output_type": "stream",
     "text": [
      "<class 'pandas.core.frame.DataFrame'>\n",
      "RangeIndex: 8999 entries, 0 to 8998\n",
      "Data columns (total 12 columns):\n",
      " #   Column               Non-Null Count  Dtype \n",
      "---  ------               --------------  ----- \n",
      " 0   ID                   8999 non-null   int64 \n",
      " 1   Warehouse_block      8999 non-null   object\n",
      " 2   Mode_of_Shipment     8999 non-null   object\n",
      " 3   Customer_care_calls  8999 non-null   int64 \n",
      " 4   Customer_rating      8999 non-null   int64 \n",
      " 5   Cost_of_the_Product  8999 non-null   int64 \n",
      " 6   Prior_purchases      8999 non-null   int64 \n",
      " 7   Product_importance   8999 non-null   object\n",
      " 8   Gender               8999 non-null   object\n",
      " 9   Discount_offered     8999 non-null   int64 \n",
      " 10  Weight_in_gms        8999 non-null   int64 \n",
      " 11  Reached.on.Time_Y.N  8999 non-null   int64 \n",
      "dtypes: int64(8), object(4)\n",
      "memory usage: 843.8+ KB\n"
     ]
    }
   ],
   "source": [
    "df_train = pd.read_excel(\"..\\PI01-2\\E-Commerce_train.xlsx\")\n",
    "df_train.info()"
   ]
  },
  {
   "cell_type": "markdown",
   "metadata": {},
   "source": [
    "unimos nuestros  dos dataframe  para poder hacer mas facil el analis"
   ]
  },
  {
   "cell_type": "code",
   "execution_count": 4,
   "metadata": {},
   "outputs": [
    {
     "data": {
      "text/html": [
       "<div>\n",
       "<style scoped>\n",
       "    .dataframe tbody tr th:only-of-type {\n",
       "        vertical-align: middle;\n",
       "    }\n",
       "\n",
       "    .dataframe tbody tr th {\n",
       "        vertical-align: top;\n",
       "    }\n",
       "\n",
       "    .dataframe thead th {\n",
       "        text-align: right;\n",
       "    }\n",
       "</style>\n",
       "<table border=\"1\" class=\"dataframe\">\n",
       "  <thead>\n",
       "    <tr style=\"text-align: right;\">\n",
       "      <th></th>\n",
       "      <th>ID</th>\n",
       "      <th>Warehouse_block</th>\n",
       "      <th>Mode_of_Shipment</th>\n",
       "      <th>Customer_care_calls</th>\n",
       "      <th>Customer_rating</th>\n",
       "      <th>Cost_of_the_Product</th>\n",
       "      <th>Prior_purchases</th>\n",
       "      <th>Product_importance</th>\n",
       "      <th>Gender</th>\n",
       "      <th>Discount_offered</th>\n",
       "      <th>Weight_in_gms</th>\n",
       "      <th>Reached.on.Time_Y.N</th>\n",
       "    </tr>\n",
       "  </thead>\n",
       "  <tbody>\n",
       "    <tr>\n",
       "      <th>0</th>\n",
       "      <td>1</td>\n",
       "      <td>D</td>\n",
       "      <td>Flight</td>\n",
       "      <td>4</td>\n",
       "      <td>2</td>\n",
       "      <td>177</td>\n",
       "      <td>3</td>\n",
       "      <td>low</td>\n",
       "      <td>F</td>\n",
       "      <td>44</td>\n",
       "      <td>1233</td>\n",
       "      <td>1.0</td>\n",
       "    </tr>\n",
       "    <tr>\n",
       "      <th>1</th>\n",
       "      <td>2</td>\n",
       "      <td>F</td>\n",
       "      <td>Flight</td>\n",
       "      <td>4</td>\n",
       "      <td>5</td>\n",
       "      <td>216</td>\n",
       "      <td>2</td>\n",
       "      <td>low</td>\n",
       "      <td>M</td>\n",
       "      <td>59</td>\n",
       "      <td>3088</td>\n",
       "      <td>1.0</td>\n",
       "    </tr>\n",
       "    <tr>\n",
       "      <th>2</th>\n",
       "      <td>3</td>\n",
       "      <td>A</td>\n",
       "      <td>Flight</td>\n",
       "      <td>2</td>\n",
       "      <td>2</td>\n",
       "      <td>183</td>\n",
       "      <td>4</td>\n",
       "      <td>low</td>\n",
       "      <td>M</td>\n",
       "      <td>48</td>\n",
       "      <td>3374</td>\n",
       "      <td>1.0</td>\n",
       "    </tr>\n",
       "    <tr>\n",
       "      <th>3</th>\n",
       "      <td>4</td>\n",
       "      <td>B</td>\n",
       "      <td>Flight</td>\n",
       "      <td>3</td>\n",
       "      <td>3</td>\n",
       "      <td>176</td>\n",
       "      <td>4</td>\n",
       "      <td>medium</td>\n",
       "      <td>M</td>\n",
       "      <td>10</td>\n",
       "      <td>1177</td>\n",
       "      <td>1.0</td>\n",
       "    </tr>\n",
       "    <tr>\n",
       "      <th>4</th>\n",
       "      <td>5</td>\n",
       "      <td>C</td>\n",
       "      <td>Flight</td>\n",
       "      <td>2</td>\n",
       "      <td>2</td>\n",
       "      <td>184</td>\n",
       "      <td>3</td>\n",
       "      <td>medium</td>\n",
       "      <td>F</td>\n",
       "      <td>46</td>\n",
       "      <td>2484</td>\n",
       "      <td>1.0</td>\n",
       "    </tr>\n",
       "    <tr>\n",
       "      <th>...</th>\n",
       "      <td>...</td>\n",
       "      <td>...</td>\n",
       "      <td>...</td>\n",
       "      <td>...</td>\n",
       "      <td>...</td>\n",
       "      <td>...</td>\n",
       "      <td>...</td>\n",
       "      <td>...</td>\n",
       "      <td>...</td>\n",
       "      <td>...</td>\n",
       "      <td>...</td>\n",
       "      <td>...</td>\n",
       "    </tr>\n",
       "    <tr>\n",
       "      <th>1995</th>\n",
       "      <td>10995</td>\n",
       "      <td>A</td>\n",
       "      <td>Ship</td>\n",
       "      <td>4</td>\n",
       "      <td>1</td>\n",
       "      <td>252</td>\n",
       "      <td>5</td>\n",
       "      <td>medium</td>\n",
       "      <td>F</td>\n",
       "      <td>1</td>\n",
       "      <td>1538</td>\n",
       "      <td>NaN</td>\n",
       "    </tr>\n",
       "    <tr>\n",
       "      <th>1996</th>\n",
       "      <td>10996</td>\n",
       "      <td>B</td>\n",
       "      <td>Ship</td>\n",
       "      <td>4</td>\n",
       "      <td>1</td>\n",
       "      <td>232</td>\n",
       "      <td>5</td>\n",
       "      <td>medium</td>\n",
       "      <td>F</td>\n",
       "      <td>6</td>\n",
       "      <td>1247</td>\n",
       "      <td>NaN</td>\n",
       "    </tr>\n",
       "    <tr>\n",
       "      <th>1997</th>\n",
       "      <td>10997</td>\n",
       "      <td>C</td>\n",
       "      <td>Ship</td>\n",
       "      <td>5</td>\n",
       "      <td>4</td>\n",
       "      <td>242</td>\n",
       "      <td>5</td>\n",
       "      <td>low</td>\n",
       "      <td>F</td>\n",
       "      <td>4</td>\n",
       "      <td>1155</td>\n",
       "      <td>NaN</td>\n",
       "    </tr>\n",
       "    <tr>\n",
       "      <th>1998</th>\n",
       "      <td>10998</td>\n",
       "      <td>F</td>\n",
       "      <td>Ship</td>\n",
       "      <td>5</td>\n",
       "      <td>2</td>\n",
       "      <td>223</td>\n",
       "      <td>6</td>\n",
       "      <td>medium</td>\n",
       "      <td>M</td>\n",
       "      <td>2</td>\n",
       "      <td>1210</td>\n",
       "      <td>NaN</td>\n",
       "    </tr>\n",
       "    <tr>\n",
       "      <th>1999</th>\n",
       "      <td>10999</td>\n",
       "      <td>D</td>\n",
       "      <td>Ship</td>\n",
       "      <td>2</td>\n",
       "      <td>5</td>\n",
       "      <td>155</td>\n",
       "      <td>5</td>\n",
       "      <td>low</td>\n",
       "      <td>F</td>\n",
       "      <td>6</td>\n",
       "      <td>1639</td>\n",
       "      <td>NaN</td>\n",
       "    </tr>\n",
       "  </tbody>\n",
       "</table>\n",
       "<p>10999 rows × 12 columns</p>\n",
       "</div>"
      ],
      "text/plain": [
       "         ID Warehouse_block Mode_of_Shipment  Customer_care_calls  \\\n",
       "0         1               D           Flight                    4   \n",
       "1         2               F           Flight                    4   \n",
       "2         3               A           Flight                    2   \n",
       "3         4               B           Flight                    3   \n",
       "4         5               C           Flight                    2   \n",
       "...     ...             ...              ...                  ...   \n",
       "1995  10995               A             Ship                    4   \n",
       "1996  10996               B             Ship                    4   \n",
       "1997  10997               C             Ship                    5   \n",
       "1998  10998               F             Ship                    5   \n",
       "1999  10999               D             Ship                    2   \n",
       "\n",
       "      Customer_rating  Cost_of_the_Product  Prior_purchases  \\\n",
       "0                   2                  177                3   \n",
       "1                   5                  216                2   \n",
       "2                   2                  183                4   \n",
       "3                   3                  176                4   \n",
       "4                   2                  184                3   \n",
       "...               ...                  ...              ...   \n",
       "1995                1                  252                5   \n",
       "1996                1                  232                5   \n",
       "1997                4                  242                5   \n",
       "1998                2                  223                6   \n",
       "1999                5                  155                5   \n",
       "\n",
       "     Product_importance Gender  Discount_offered  Weight_in_gms  \\\n",
       "0                   low      F                44           1233   \n",
       "1                   low      M                59           3088   \n",
       "2                   low      M                48           3374   \n",
       "3                medium      M                10           1177   \n",
       "4                medium      F                46           2484   \n",
       "...                 ...    ...               ...            ...   \n",
       "1995             medium      F                 1           1538   \n",
       "1996             medium      F                 6           1247   \n",
       "1997                low      F                 4           1155   \n",
       "1998             medium      M                 2           1210   \n",
       "1999                low      F                 6           1639   \n",
       "\n",
       "      Reached.on.Time_Y.N  \n",
       "0                     1.0  \n",
       "1                     1.0  \n",
       "2                     1.0  \n",
       "3                     1.0  \n",
       "4                     1.0  \n",
       "...                   ...  \n",
       "1995                  NaN  \n",
       "1996                  NaN  \n",
       "1997                  NaN  \n",
       "1998                  NaN  \n",
       "1999                  NaN  \n",
       "\n",
       "[10999 rows x 12 columns]"
      ]
     },
     "execution_count": 4,
     "metadata": {},
     "output_type": "execute_result"
    }
   ],
   "source": [
    "df = pd.concat([df_train, df_test])\n",
    "df"
   ]
  },
  {
   "cell_type": "markdown",
   "metadata": {},
   "source": [
    "mostramos las cantidad de datos "
   ]
  },
  {
   "cell_type": "code",
   "execution_count": 5,
   "metadata": {},
   "outputs": [
    {
     "data": {
      "text/plain": [
       "(10999, 12)"
      ]
     },
     "execution_count": 5,
     "metadata": {},
     "output_type": "execute_result"
    }
   ],
   "source": [
    "df.shape"
   ]
  },
  {
   "cell_type": "markdown",
   "metadata": {},
   "source": [
    "vemos la informacion que tiene nuestro nuevo dataframe "
   ]
  },
  {
   "cell_type": "code",
   "execution_count": 6,
   "metadata": {},
   "outputs": [
    {
     "name": "stdout",
     "output_type": "stream",
     "text": [
      "<class 'pandas.core.frame.DataFrame'>\n",
      "Int64Index: 10999 entries, 0 to 1999\n",
      "Data columns (total 12 columns):\n",
      " #   Column               Non-Null Count  Dtype  \n",
      "---  ------               --------------  -----  \n",
      " 0   ID                   10999 non-null  int64  \n",
      " 1   Warehouse_block      10999 non-null  object \n",
      " 2   Mode_of_Shipment     10999 non-null  object \n",
      " 3   Customer_care_calls  10999 non-null  int64  \n",
      " 4   Customer_rating      10999 non-null  int64  \n",
      " 5   Cost_of_the_Product  10999 non-null  int64  \n",
      " 6   Prior_purchases      10999 non-null  int64  \n",
      " 7   Product_importance   10999 non-null  object \n",
      " 8   Gender               10999 non-null  object \n",
      " 9   Discount_offered     10999 non-null  int64  \n",
      " 10  Weight_in_gms        10999 non-null  int64  \n",
      " 11  Reached.on.Time_Y.N  8999 non-null   float64\n",
      "dtypes: float64(1), int64(7), object(4)\n",
      "memory usage: 1.1+ MB\n"
     ]
    }
   ],
   "source": [
    "df.info()"
   ]
  },
  {
   "cell_type": "markdown",
   "metadata": {},
   "source": [
    "relizaremos un cambio de valores a nuestros datos en la tabla \"Product_importance\"\n",
    "#cambiamos los valors para la columna Product_importance  , low=3 , medium =2 ,high =1"
   ]
  },
  {
   "cell_type": "code",
   "execution_count": 7,
   "metadata": {},
   "outputs": [],
   "source": [
    "#cambiamos los valors para la columna Product_importance  , low=3 , medium =2 ,high =1\n",
    "df[\"Product_importance\"]  =df[\"Product_importance\"].replace([\"low\"],3)\n",
    "df[\"Product_importance\"]  =df[\"Product_importance\"].replace([\"medium\"],2)\n",
    "df[\"Product_importance\"]  =df[\"Product_importance\"].replace([\"high\"],1)\n"
   ]
  },
  {
   "cell_type": "markdown",
   "metadata": {},
   "source": [
    "relizaremos un cambio de valores a nuestros datos en la tabla \"Mode_of_Shipment\"\n",
    "#cambiamos los valors para la columna Product_importance  , Flight=2 , Ship =2 ,Road =3"
   ]
  },
  {
   "cell_type": "code",
   "execution_count": 8,
   "metadata": {},
   "outputs": [],
   "source": [
    "#cambiamos los valors para la columna Product_importance  , Flight=2 , Ship =2 ,Road =3\n",
    "df[\"Mode_of_Shipment\"]  =df[\"Mode_of_Shipment\"].replace([\"Flight\"],1)\n",
    "df[\"Mode_of_Shipment\"]  =df[\"Mode_of_Shipment\"].replace([\"Ship\"],2)\n",
    "df[\"Mode_of_Shipment\"]  =df[\"Mode_of_Shipment\"].replace([\"Road\"],3)\n"
   ]
  },
  {
   "cell_type": "markdown",
   "metadata": {},
   "source": [
    "converirmos neustra tabla \"Warehouse_block\" en valores numericos con la funcion ord"
   ]
  },
  {
   "cell_type": "code",
   "execution_count": 9,
   "metadata": {},
   "outputs": [],
   "source": [
    "#converitmos el campo Warehouse_block por valores numericos \n",
    "df[\"Warehouse_block\"] = np.vectorize(ord)(df[\"Warehouse_block\"])"
   ]
  },
  {
   "cell_type": "markdown",
   "metadata": {},
   "source": [
    "convertimos en valores enteros  nuestra columna \"gender\" "
   ]
  },
  {
   "cell_type": "code",
   "execution_count": 10,
   "metadata": {},
   "outputs": [],
   "source": [
    "#eliminamos la columna ID y gender\n",
    "#df=df.drop(['ID'], axis=1)\n",
    "#df=df.drop(['Gender'], axis=1)\n",
    "\n",
    "df[\"Gender\"]  =df[\"Gender\"].replace([\"F\"],1)\n",
    "df[\"Gender\"]  =df[\"Gender\"].replace([\"M\"],0)"
   ]
  },
  {
   "cell_type": "markdown",
   "metadata": {},
   "source": [
    "renombramos nuestra columnaa 'Reached.on.Time_Y.N\" por Reached"
   ]
  },
  {
   "cell_type": "code",
   "execution_count": 11,
   "metadata": {},
   "outputs": [],
   "source": [
    "# renombramos el nombre de la columna eached.on.Time_Y.N por eached\n",
    "df.rename(columns={'Reached.on.Time_Y.N':'Reached_on_Time_Y_N',},inplace=True)\n",
    "\n"
   ]
  },
  {
   "cell_type": "markdown",
   "metadata": {},
   "source": [
    "vizulizamos nuestro neuvo dataframe "
   ]
  },
  {
   "cell_type": "code",
   "execution_count": 12,
   "metadata": {},
   "outputs": [
    {
     "data": {
      "text/html": [
       "<div>\n",
       "<style scoped>\n",
       "    .dataframe tbody tr th:only-of-type {\n",
       "        vertical-align: middle;\n",
       "    }\n",
       "\n",
       "    .dataframe tbody tr th {\n",
       "        vertical-align: top;\n",
       "    }\n",
       "\n",
       "    .dataframe thead th {\n",
       "        text-align: right;\n",
       "    }\n",
       "</style>\n",
       "<table border=\"1\" class=\"dataframe\">\n",
       "  <thead>\n",
       "    <tr style=\"text-align: right;\">\n",
       "      <th></th>\n",
       "      <th>ID</th>\n",
       "      <th>Warehouse_block</th>\n",
       "      <th>Mode_of_Shipment</th>\n",
       "      <th>Customer_care_calls</th>\n",
       "      <th>Customer_rating</th>\n",
       "      <th>Cost_of_the_Product</th>\n",
       "      <th>Prior_purchases</th>\n",
       "      <th>Product_importance</th>\n",
       "      <th>Gender</th>\n",
       "      <th>Discount_offered</th>\n",
       "      <th>Weight_in_gms</th>\n",
       "      <th>Reached_on_Time_Y_N</th>\n",
       "    </tr>\n",
       "  </thead>\n",
       "  <tbody>\n",
       "    <tr>\n",
       "      <th>0</th>\n",
       "      <td>1</td>\n",
       "      <td>68</td>\n",
       "      <td>1</td>\n",
       "      <td>4</td>\n",
       "      <td>2</td>\n",
       "      <td>177</td>\n",
       "      <td>3</td>\n",
       "      <td>3</td>\n",
       "      <td>1</td>\n",
       "      <td>44</td>\n",
       "      <td>1233</td>\n",
       "      <td>1.0</td>\n",
       "    </tr>\n",
       "    <tr>\n",
       "      <th>1</th>\n",
       "      <td>2</td>\n",
       "      <td>70</td>\n",
       "      <td>1</td>\n",
       "      <td>4</td>\n",
       "      <td>5</td>\n",
       "      <td>216</td>\n",
       "      <td>2</td>\n",
       "      <td>3</td>\n",
       "      <td>0</td>\n",
       "      <td>59</td>\n",
       "      <td>3088</td>\n",
       "      <td>1.0</td>\n",
       "    </tr>\n",
       "    <tr>\n",
       "      <th>2</th>\n",
       "      <td>3</td>\n",
       "      <td>65</td>\n",
       "      <td>1</td>\n",
       "      <td>2</td>\n",
       "      <td>2</td>\n",
       "      <td>183</td>\n",
       "      <td>4</td>\n",
       "      <td>3</td>\n",
       "      <td>0</td>\n",
       "      <td>48</td>\n",
       "      <td>3374</td>\n",
       "      <td>1.0</td>\n",
       "    </tr>\n",
       "    <tr>\n",
       "      <th>3</th>\n",
       "      <td>4</td>\n",
       "      <td>66</td>\n",
       "      <td>1</td>\n",
       "      <td>3</td>\n",
       "      <td>3</td>\n",
       "      <td>176</td>\n",
       "      <td>4</td>\n",
       "      <td>2</td>\n",
       "      <td>0</td>\n",
       "      <td>10</td>\n",
       "      <td>1177</td>\n",
       "      <td>1.0</td>\n",
       "    </tr>\n",
       "    <tr>\n",
       "      <th>4</th>\n",
       "      <td>5</td>\n",
       "      <td>67</td>\n",
       "      <td>1</td>\n",
       "      <td>2</td>\n",
       "      <td>2</td>\n",
       "      <td>184</td>\n",
       "      <td>3</td>\n",
       "      <td>2</td>\n",
       "      <td>1</td>\n",
       "      <td>46</td>\n",
       "      <td>2484</td>\n",
       "      <td>1.0</td>\n",
       "    </tr>\n",
       "    <tr>\n",
       "      <th>...</th>\n",
       "      <td>...</td>\n",
       "      <td>...</td>\n",
       "      <td>...</td>\n",
       "      <td>...</td>\n",
       "      <td>...</td>\n",
       "      <td>...</td>\n",
       "      <td>...</td>\n",
       "      <td>...</td>\n",
       "      <td>...</td>\n",
       "      <td>...</td>\n",
       "      <td>...</td>\n",
       "      <td>...</td>\n",
       "    </tr>\n",
       "    <tr>\n",
       "      <th>1995</th>\n",
       "      <td>10995</td>\n",
       "      <td>65</td>\n",
       "      <td>2</td>\n",
       "      <td>4</td>\n",
       "      <td>1</td>\n",
       "      <td>252</td>\n",
       "      <td>5</td>\n",
       "      <td>2</td>\n",
       "      <td>1</td>\n",
       "      <td>1</td>\n",
       "      <td>1538</td>\n",
       "      <td>NaN</td>\n",
       "    </tr>\n",
       "    <tr>\n",
       "      <th>1996</th>\n",
       "      <td>10996</td>\n",
       "      <td>66</td>\n",
       "      <td>2</td>\n",
       "      <td>4</td>\n",
       "      <td>1</td>\n",
       "      <td>232</td>\n",
       "      <td>5</td>\n",
       "      <td>2</td>\n",
       "      <td>1</td>\n",
       "      <td>6</td>\n",
       "      <td>1247</td>\n",
       "      <td>NaN</td>\n",
       "    </tr>\n",
       "    <tr>\n",
       "      <th>1997</th>\n",
       "      <td>10997</td>\n",
       "      <td>67</td>\n",
       "      <td>2</td>\n",
       "      <td>5</td>\n",
       "      <td>4</td>\n",
       "      <td>242</td>\n",
       "      <td>5</td>\n",
       "      <td>3</td>\n",
       "      <td>1</td>\n",
       "      <td>4</td>\n",
       "      <td>1155</td>\n",
       "      <td>NaN</td>\n",
       "    </tr>\n",
       "    <tr>\n",
       "      <th>1998</th>\n",
       "      <td>10998</td>\n",
       "      <td>70</td>\n",
       "      <td>2</td>\n",
       "      <td>5</td>\n",
       "      <td>2</td>\n",
       "      <td>223</td>\n",
       "      <td>6</td>\n",
       "      <td>2</td>\n",
       "      <td>0</td>\n",
       "      <td>2</td>\n",
       "      <td>1210</td>\n",
       "      <td>NaN</td>\n",
       "    </tr>\n",
       "    <tr>\n",
       "      <th>1999</th>\n",
       "      <td>10999</td>\n",
       "      <td>68</td>\n",
       "      <td>2</td>\n",
       "      <td>2</td>\n",
       "      <td>5</td>\n",
       "      <td>155</td>\n",
       "      <td>5</td>\n",
       "      <td>3</td>\n",
       "      <td>1</td>\n",
       "      <td>6</td>\n",
       "      <td>1639</td>\n",
       "      <td>NaN</td>\n",
       "    </tr>\n",
       "  </tbody>\n",
       "</table>\n",
       "<p>10999 rows × 12 columns</p>\n",
       "</div>"
      ],
      "text/plain": [
       "         ID  Warehouse_block  Mode_of_Shipment  Customer_care_calls  \\\n",
       "0         1               68                 1                    4   \n",
       "1         2               70                 1                    4   \n",
       "2         3               65                 1                    2   \n",
       "3         4               66                 1                    3   \n",
       "4         5               67                 1                    2   \n",
       "...     ...              ...               ...                  ...   \n",
       "1995  10995               65                 2                    4   \n",
       "1996  10996               66                 2                    4   \n",
       "1997  10997               67                 2                    5   \n",
       "1998  10998               70                 2                    5   \n",
       "1999  10999               68                 2                    2   \n",
       "\n",
       "      Customer_rating  Cost_of_the_Product  Prior_purchases  \\\n",
       "0                   2                  177                3   \n",
       "1                   5                  216                2   \n",
       "2                   2                  183                4   \n",
       "3                   3                  176                4   \n",
       "4                   2                  184                3   \n",
       "...               ...                  ...              ...   \n",
       "1995                1                  252                5   \n",
       "1996                1                  232                5   \n",
       "1997                4                  242                5   \n",
       "1998                2                  223                6   \n",
       "1999                5                  155                5   \n",
       "\n",
       "      Product_importance  Gender  Discount_offered  Weight_in_gms  \\\n",
       "0                      3       1                44           1233   \n",
       "1                      3       0                59           3088   \n",
       "2                      3       0                48           3374   \n",
       "3                      2       0                10           1177   \n",
       "4                      2       1                46           2484   \n",
       "...                  ...     ...               ...            ...   \n",
       "1995                   2       1                 1           1538   \n",
       "1996                   2       1                 6           1247   \n",
       "1997                   3       1                 4           1155   \n",
       "1998                   2       0                 2           1210   \n",
       "1999                   3       1                 6           1639   \n",
       "\n",
       "      Reached_on_Time_Y_N  \n",
       "0                     1.0  \n",
       "1                     1.0  \n",
       "2                     1.0  \n",
       "3                     1.0  \n",
       "4                     1.0  \n",
       "...                   ...  \n",
       "1995                  NaN  \n",
       "1996                  NaN  \n",
       "1997                  NaN  \n",
       "1998                  NaN  \n",
       "1999                  NaN  \n",
       "\n",
       "[10999 rows x 12 columns]"
      ]
     },
     "execution_count": 12,
     "metadata": {},
     "output_type": "execute_result"
    }
   ],
   "source": [
    "df"
   ]
  },
  {
   "cell_type": "markdown",
   "metadata": {},
   "source": [
    "visualizamos en un histograma  la variable a predecir  "
   ]
  },
  {
   "cell_type": "code",
   "execution_count": 13,
   "metadata": {},
   "outputs": [
    {
     "data": {
      "text/plain": [
       "<AxesSubplot:>"
      ]
     },
     "execution_count": 13,
     "metadata": {},
     "output_type": "execute_result"
    },
    {
     "data": {
      "image/png": "[encoded data removed]",
      "text/plain": [
       "<Figure size 432x288 with 1 Axes>"
      ]
     },
     "metadata": {
      "needs_background": "light"
     },
     "output_type": "display_data"
    }
   ],
   "source": [
    "df.Reached_on_Time_Y_N.hist()"
   ]
  },
  {
   "cell_type": "markdown",
   "metadata": {},
   "source": [
    "Analizamos que nuestra columna Discount_offered no tenga datos atipicos "
   ]
  },
  {
   "cell_type": "code",
   "execution_count": 14,
   "metadata": {},
   "outputs": [
    {
     "name": "stdout",
     "output_type": "stream",
     "text": [
      "(array([], dtype=int64),)\n"
     ]
    },
    {
     "data": {
      "text/plain": [
       "<AxesSubplot:xlabel='Discount_offered'>"
      ]
     },
     "execution_count": 14,
     "metadata": {},
     "output_type": "execute_result"
    },
    {
     "data": {
      "image/png": "[encoded data removed]",
      "text/plain": [
       "<Figure size 432x288 with 1 Axes>"
      ]
     },
     "metadata": {
      "needs_background": "light"
     },
     "output_type": "display_data"
    }
   ],
   "source": [
    "print(np.where(df['Discount_offered']>65))\n",
    "sns.boxplot(df['Discount_offered'])\n"
   ]
  },
  {
   "cell_type": "markdown",
   "metadata": {},
   "source": [
    "AHORA VOLVEMOS A SEPARAR NUESTROS DAFRAME QUE UNIMO AL PRINCIPIO ESTA VEZ YA SE ENCUENTRAN EN FORMATO NUMERICO TODOS NUESTROS CAMPOS "
   ]
  },
  {
   "cell_type": "markdown",
   "metadata": {},
   "source": [
    "volvemos a separar nuestros datos ya convertido en numeros "
   ]
  },
  {
   "cell_type": "markdown",
   "metadata": {},
   "source": [
    "nuetro primer dataframe se llamara  data_train que son los datos de nuestor archivo de entrenamiento "
   ]
  },
  {
   "cell_type": "code",
   "execution_count": 15,
   "metadata": {},
   "outputs": [
    {
     "name": "stderr",
     "output_type": "stream",
     "text": [
      "C:\\Users\\User\\AppData\\Local\\Temp\\ipykernel_28100\\1080087786.py:2: SettingWithCopyWarning: \n",
      "A value is trying to be set on a copy of a slice from a DataFrame.\n",
      "Try using .loc[row_indexer,col_indexer] = value instead\n",
      "\n",
      "See the caveats in the documentation: https://pandas.pydata.org/pandas-docs/stable/user_guide/indexing.html#returning-a-view-versus-a-copy\n",
      "  data_train['Reached_on_Time_Y_N'] = data_train['Reached_on_Time_Y_N'].astype(np.int64)\n"
     ]
    },
    {
     "data": {
      "text/plain": [
       "Warehouse_block        8999\n",
       "Mode_of_Shipment       8999\n",
       "Customer_care_calls    8999\n",
       "Customer_rating        8999\n",
       "Cost_of_the_Product    8999\n",
       "Prior_purchases        8999\n",
       "Product_importance     8999\n",
       "Gender                 8999\n",
       "Discount_offered       8999\n",
       "Weight_in_gms          8999\n",
       "Reached_on_Time_Y_N    8999\n",
       "dtype: int64"
      ]
     },
     "execution_count": 15,
     "metadata": {},
     "output_type": "execute_result"
    }
   ],
   "source": [
    "data_train = df.dropna()\n",
    "data_train['Reached_on_Time_Y_N'] = data_train['Reached_on_Time_Y_N'].astype(np.int64)\n",
    "data_train=data_train.drop(['ID'], axis=1)\n",
    "data_train.count()"
   ]
  },
  {
   "cell_type": "markdown",
   "metadata": {},
   "source": [
    "nuestro  segundo dataframe  se llamara data_test el cual contiene datos del archivo test "
   ]
  },
  {
   "cell_type": "code",
   "execution_count": 53,
   "metadata": {},
   "outputs": [
    {
     "data": {
      "text/html": [
       "<div>\n",
       "<style scoped>\n",
       "    .dataframe tbody tr th:only-of-type {\n",
       "        vertical-align: middle;\n",
       "    }\n",
       "\n",
       "    .dataframe tbody tr th {\n",
       "        vertical-align: top;\n",
       "    }\n",
       "\n",
       "    .dataframe thead th {\n",
       "        text-align: right;\n",
       "    }\n",
       "</style>\n",
       "<table border=\"1\" class=\"dataframe\">\n",
       "  <thead>\n",
       "    <tr style=\"text-align: right;\">\n",
       "      <th></th>\n",
       "      <th>Warehouse_block</th>\n",
       "      <th>Mode_of_Shipment</th>\n",
       "      <th>Customer_care_calls</th>\n",
       "      <th>Customer_rating</th>\n",
       "      <th>Cost_of_the_Product</th>\n",
       "      <th>Prior_purchases</th>\n",
       "      <th>Product_importance</th>\n",
       "      <th>Gender</th>\n",
       "      <th>Discount_offered</th>\n",
       "      <th>Weight_in_gms</th>\n",
       "    </tr>\n",
       "  </thead>\n",
       "  <tbody>\n",
       "    <tr>\n",
       "      <th>0</th>\n",
       "      <td>70</td>\n",
       "      <td>2</td>\n",
       "      <td>5</td>\n",
       "      <td>1</td>\n",
       "      <td>189</td>\n",
       "      <td>2</td>\n",
       "      <td>2</td>\n",
       "      <td>0</td>\n",
       "      <td>10</td>\n",
       "      <td>5248</td>\n",
       "    </tr>\n",
       "    <tr>\n",
       "      <th>1</th>\n",
       "      <td>68</td>\n",
       "      <td>2</td>\n",
       "      <td>5</td>\n",
       "      <td>3</td>\n",
       "      <td>150</td>\n",
       "      <td>2</td>\n",
       "      <td>1</td>\n",
       "      <td>1</td>\n",
       "      <td>9</td>\n",
       "      <td>4446</td>\n",
       "    </tr>\n",
       "    <tr>\n",
       "      <th>2</th>\n",
       "      <td>70</td>\n",
       "      <td>2</td>\n",
       "      <td>3</td>\n",
       "      <td>3</td>\n",
       "      <td>200</td>\n",
       "      <td>3</td>\n",
       "      <td>3</td>\n",
       "      <td>0</td>\n",
       "      <td>3</td>\n",
       "      <td>5739</td>\n",
       "    </tr>\n",
       "    <tr>\n",
       "      <th>3</th>\n",
       "      <td>65</td>\n",
       "      <td>2</td>\n",
       "      <td>5</td>\n",
       "      <td>1</td>\n",
       "      <td>133</td>\n",
       "      <td>2</td>\n",
       "      <td>2</td>\n",
       "      <td>0</td>\n",
       "      <td>1</td>\n",
       "      <td>4643</td>\n",
       "    </tr>\n",
       "    <tr>\n",
       "      <th>4</th>\n",
       "      <td>66</td>\n",
       "      <td>2</td>\n",
       "      <td>4</td>\n",
       "      <td>2</td>\n",
       "      <td>260</td>\n",
       "      <td>3</td>\n",
       "      <td>3</td>\n",
       "      <td>0</td>\n",
       "      <td>4</td>\n",
       "      <td>5504</td>\n",
       "    </tr>\n",
       "    <tr>\n",
       "      <th>...</th>\n",
       "      <td>...</td>\n",
       "      <td>...</td>\n",
       "      <td>...</td>\n",
       "      <td>...</td>\n",
       "      <td>...</td>\n",
       "      <td>...</td>\n",
       "      <td>...</td>\n",
       "      <td>...</td>\n",
       "      <td>...</td>\n",
       "      <td>...</td>\n",
       "    </tr>\n",
       "    <tr>\n",
       "      <th>1995</th>\n",
       "      <td>65</td>\n",
       "      <td>2</td>\n",
       "      <td>4</td>\n",
       "      <td>1</td>\n",
       "      <td>252</td>\n",
       "      <td>5</td>\n",
       "      <td>2</td>\n",
       "      <td>1</td>\n",
       "      <td>1</td>\n",
       "      <td>1538</td>\n",
       "    </tr>\n",
       "    <tr>\n",
       "      <th>1996</th>\n",
       "      <td>66</td>\n",
       "      <td>2</td>\n",
       "      <td>4</td>\n",
       "      <td>1</td>\n",
       "      <td>232</td>\n",
       "      <td>5</td>\n",
       "      <td>2</td>\n",
       "      <td>1</td>\n",
       "      <td>6</td>\n",
       "      <td>1247</td>\n",
       "    </tr>\n",
       "    <tr>\n",
       "      <th>1997</th>\n",
       "      <td>67</td>\n",
       "      <td>2</td>\n",
       "      <td>5</td>\n",
       "      <td>4</td>\n",
       "      <td>242</td>\n",
       "      <td>5</td>\n",
       "      <td>3</td>\n",
       "      <td>1</td>\n",
       "      <td>4</td>\n",
       "      <td>1155</td>\n",
       "    </tr>\n",
       "    <tr>\n",
       "      <th>1998</th>\n",
       "      <td>70</td>\n",
       "      <td>2</td>\n",
       "      <td>5</td>\n",
       "      <td>2</td>\n",
       "      <td>223</td>\n",
       "      <td>6</td>\n",
       "      <td>2</td>\n",
       "      <td>0</td>\n",
       "      <td>2</td>\n",
       "      <td>1210</td>\n",
       "    </tr>\n",
       "    <tr>\n",
       "      <th>1999</th>\n",
       "      <td>68</td>\n",
       "      <td>2</td>\n",
       "      <td>2</td>\n",
       "      <td>5</td>\n",
       "      <td>155</td>\n",
       "      <td>5</td>\n",
       "      <td>3</td>\n",
       "      <td>1</td>\n",
       "      <td>6</td>\n",
       "      <td>1639</td>\n",
       "    </tr>\n",
       "  </tbody>\n",
       "</table>\n",
       "<p>2000 rows × 10 columns</p>\n",
       "</div>"
      ],
      "text/plain": [
       "      Warehouse_block  Mode_of_Shipment  Customer_care_calls  Customer_rating  \\\n",
       "0                  70                 2                    5                1   \n",
       "1                  68                 2                    5                3   \n",
       "2                  70                 2                    3                3   \n",
       "3                  65                 2                    5                1   \n",
       "4                  66                 2                    4                2   \n",
       "...               ...               ...                  ...              ...   \n",
       "1995               65                 2                    4                1   \n",
       "1996               66                 2                    4                1   \n",
       "1997               67                 2                    5                4   \n",
       "1998               70                 2                    5                2   \n",
       "1999               68                 2                    2                5   \n",
       "\n",
       "      Cost_of_the_Product  Prior_purchases  Product_importance  Gender  \\\n",
       "0                     189                2                   2       0   \n",
       "1                     150                2                   1       1   \n",
       "2                     200                3                   3       0   \n",
       "3                     133                2                   2       0   \n",
       "4                     260                3                   3       0   \n",
       "...                   ...              ...                 ...     ...   \n",
       "1995                  252                5                   2       1   \n",
       "1996                  232                5                   2       1   \n",
       "1997                  242                5                   3       1   \n",
       "1998                  223                6                   2       0   \n",
       "1999                  155                5                   3       1   \n",
       "\n",
       "      Discount_offered  Weight_in_gms  \n",
       "0                   10           5248  \n",
       "1                    9           4446  \n",
       "2                    3           5739  \n",
       "3                    1           4643  \n",
       "4                    4           5504  \n",
       "...                ...            ...  \n",
       "1995                 1           1538  \n",
       "1996                 6           1247  \n",
       "1997                 4           1155  \n",
       "1998                 2           1210  \n",
       "1999                 6           1639  \n",
       "\n",
       "[2000 rows x 10 columns]"
      ]
     },
     "execution_count": 53,
     "metadata": {},
     "output_type": "execute_result"
    }
   ],
   "source": [
    "data_test = df.iloc[8999:] # tomamos todos los datos apartir del 8999 para neustro dataframe data_test\n",
    "data_test=data_test.drop(['Reached_on_Time_Y_N'], axis=1)\n",
    "data_test=data_test.drop(['ID'], axis=1)\n",
    "data_test\n"
   ]
  },
  {
   "cell_type": "markdown",
   "metadata": {},
   "source": [
    "PROCEDEREMOS A VER LAS CORRELACIONES QUE EXISTEN CON NUESTRAS VARIABLE  "
   ]
  },
  {
   "cell_type": "markdown",
   "metadata": {},
   "source": [
    "nos fijamos cuatos datos tenemos 1 y 0  del campo Reached_on_Time_Y_N"
   ]
  },
  {
   "cell_type": "code",
   "execution_count": 17,
   "metadata": {},
   "outputs": [
    {
     "data": {
      "text/plain": [
       "1    5719\n",
       "0    3280\n",
       "Name: Reached_on_Time_Y_N, dtype: int64"
      ]
     },
     "execution_count": 17,
     "metadata": {},
     "output_type": "execute_result"
    }
   ],
   "source": [
    "data_train.Reached_on_Time_Y_N.value_counts()"
   ]
  },
  {
   "cell_type": "markdown",
   "metadata": {},
   "source": [
    "pocentaje de 0 y 1 "
   ]
  },
  {
   "cell_type": "code",
   "execution_count": 18,
   "metadata": {},
   "outputs": [
    {
     "data": {
      "text/plain": [
       "1    0.635515\n",
       "0    0.364485\n",
       "Name: Reached_on_Time_Y_N, dtype: float64"
      ]
     },
     "execution_count": 18,
     "metadata": {},
     "output_type": "execute_result"
    }
   ],
   "source": [
    "data_train.Reached_on_Time_Y_N.value_counts()/data_train.shape[0]"
   ]
  },
  {
   "cell_type": "markdown",
   "metadata": {},
   "source": [
    "mostramos las correlaciones de nuestra dataframe data_train "
   ]
  },
  {
   "cell_type": "markdown",
   "metadata": {},
   "source": [
    "Un envoltorio corr pandas que nos permite filtrar rápidamente las variables más importantes, o no.\n",
    "\n",
    "Útil en EDA y al hacer la preselección de características antes de crear el modelo predictivo."
   ]
  },
  {
   "cell_type": "code",
   "execution_count": 19,
   "metadata": {},
   "outputs": [
    {
     "data": {
      "text/html": [
       "<div>\n",
       "<style scoped>\n",
       "    .dataframe tbody tr th:only-of-type {\n",
       "        vertical-align: middle;\n",
       "    }\n",
       "\n",
       "    .dataframe tbody tr th {\n",
       "        vertical-align: top;\n",
       "    }\n",
       "\n",
       "    .dataframe thead th {\n",
       "        text-align: right;\n",
       "    }\n",
       "</style>\n",
       "<table border=\"1\" class=\"dataframe\">\n",
       "  <thead>\n",
       "    <tr style=\"text-align: right;\">\n",
       "      <th></th>\n",
       "      <th>v1</th>\n",
       "      <th>v2</th>\n",
       "      <th>R</th>\n",
       "      <th>R2</th>\n",
       "    </tr>\n",
       "  </thead>\n",
       "  <tbody>\n",
       "    <tr>\n",
       "      <th>1</th>\n",
       "      <td>Mode_of_Shipment</td>\n",
       "      <td>Warehouse_block</td>\n",
       "      <td>-0.000070</td>\n",
       "      <td>4.892496e-09</td>\n",
       "    </tr>\n",
       "    <tr>\n",
       "      <th>2</th>\n",
       "      <td>Customer_care_calls</td>\n",
       "      <td>Warehouse_block</td>\n",
       "      <td>0.007160</td>\n",
       "      <td>5.126911e-05</td>\n",
       "    </tr>\n",
       "    <tr>\n",
       "      <th>3</th>\n",
       "      <td>Customer_rating</td>\n",
       "      <td>Warehouse_block</td>\n",
       "      <td>0.003795</td>\n",
       "      <td>1.440048e-05</td>\n",
       "    </tr>\n",
       "    <tr>\n",
       "      <th>4</th>\n",
       "      <td>Cost_of_the_Product</td>\n",
       "      <td>Warehouse_block</td>\n",
       "      <td>-0.010159</td>\n",
       "      <td>1.031990e-04</td>\n",
       "    </tr>\n",
       "    <tr>\n",
       "      <th>5</th>\n",
       "      <td>Prior_purchases</td>\n",
       "      <td>Warehouse_block</td>\n",
       "      <td>-0.010097</td>\n",
       "      <td>1.019503e-04</td>\n",
       "    </tr>\n",
       "    <tr>\n",
       "      <th>6</th>\n",
       "      <td>Product_importance</td>\n",
       "      <td>Warehouse_block</td>\n",
       "      <td>0.005282</td>\n",
       "      <td>2.789974e-05</td>\n",
       "    </tr>\n",
       "    <tr>\n",
       "      <th>7</th>\n",
       "      <td>Gender</td>\n",
       "      <td>Warehouse_block</td>\n",
       "      <td>0.000414</td>\n",
       "      <td>1.712234e-07</td>\n",
       "    </tr>\n",
       "    <tr>\n",
       "      <th>8</th>\n",
       "      <td>Discount_offered</td>\n",
       "      <td>Warehouse_block</td>\n",
       "      <td>0.013715</td>\n",
       "      <td>1.881143e-04</td>\n",
       "    </tr>\n",
       "    <tr>\n",
       "      <th>9</th>\n",
       "      <td>Weight_in_gms</td>\n",
       "      <td>Warehouse_block</td>\n",
       "      <td>0.005122</td>\n",
       "      <td>2.623592e-05</td>\n",
       "    </tr>\n",
       "    <tr>\n",
       "      <th>10</th>\n",
       "      <td>Reached_on_Time_Y_N</td>\n",
       "      <td>Warehouse_block</td>\n",
       "      <td>0.002182</td>\n",
       "      <td>4.759425e-06</td>\n",
       "    </tr>\n",
       "    <tr>\n",
       "      <th>11</th>\n",
       "      <td>Warehouse_block</td>\n",
       "      <td>Mode_of_Shipment</td>\n",
       "      <td>-0.000070</td>\n",
       "      <td>4.892496e-09</td>\n",
       "    </tr>\n",
       "    <tr>\n",
       "      <th>13</th>\n",
       "      <td>Customer_care_calls</td>\n",
       "      <td>Mode_of_Shipment</td>\n",
       "      <td>-0.020146</td>\n",
       "      <td>4.058673e-04</td>\n",
       "    </tr>\n",
       "    <tr>\n",
       "      <th>14</th>\n",
       "      <td>Customer_rating</td>\n",
       "      <td>Mode_of_Shipment</td>\n",
       "      <td>0.009307</td>\n",
       "      <td>8.661505e-05</td>\n",
       "    </tr>\n",
       "  </tbody>\n",
       "</table>\n",
       "</div>"
      ],
      "text/plain": [
       "                     v1                v2         R            R2\n",
       "1      Mode_of_Shipment   Warehouse_block -0.000070  4.892496e-09\n",
       "2   Customer_care_calls   Warehouse_block  0.007160  5.126911e-05\n",
       "3       Customer_rating   Warehouse_block  0.003795  1.440048e-05\n",
       "4   Cost_of_the_Product   Warehouse_block -0.010159  1.031990e-04\n",
       "5       Prior_purchases   Warehouse_block -0.010097  1.019503e-04\n",
       "6    Product_importance   Warehouse_block  0.005282  2.789974e-05\n",
       "7                Gender   Warehouse_block  0.000414  1.712234e-07\n",
       "8      Discount_offered   Warehouse_block  0.013715  1.881143e-04\n",
       "9         Weight_in_gms   Warehouse_block  0.005122  2.623592e-05\n",
       "10  Reached_on_Time_Y_N   Warehouse_block  0.002182  4.759425e-06\n",
       "11      Warehouse_block  Mode_of_Shipment -0.000070  4.892496e-09\n",
       "13  Customer_care_calls  Mode_of_Shipment -0.020146  4.058673e-04\n",
       "14      Customer_rating  Mode_of_Shipment  0.009307  8.661505e-05"
      ]
     },
     "execution_count": 19,
     "metadata": {},
     "output_type": "execute_result"
    }
   ],
   "source": [
    "from funpymodeling.exploratory import corr_pair #importamos  esta libreria para poder visualizar mejor las correlaciones \n",
    "res=corr_pair(data_train)\n",
    "res.head(13)\n",
    "#Un envoltorio corr pandas que nos permite filtrar rápidamente las variables más importantes, o no.\n",
    "#Útil en EDA y al hacer la preselección de características antes de crear el modelo predictivo."
   ]
  },
  {
   "cell_type": "markdown",
   "metadata": {},
   "source": [
    "calculamos la correlacion que tiene todas nuestras variables "
   ]
  },
  {
   "cell_type": "code",
   "execution_count": 20,
   "metadata": {},
   "outputs": [
    {
     "data": {
      "text/html": [
       "<div>\n",
       "<style scoped>\n",
       "    .dataframe tbody tr th:only-of-type {\n",
       "        vertical-align: middle;\n",
       "    }\n",
       "\n",
       "    .dataframe tbody tr th {\n",
       "        vertical-align: top;\n",
       "    }\n",
       "\n",
       "    .dataframe thead th {\n",
       "        text-align: right;\n",
       "    }\n",
       "</style>\n",
       "<table border=\"1\" class=\"dataframe\">\n",
       "  <thead>\n",
       "    <tr style=\"text-align: right;\">\n",
       "      <th></th>\n",
       "      <th>v1</th>\n",
       "      <th>v2</th>\n",
       "      <th>R</th>\n",
       "      <th>R2</th>\n",
       "    </tr>\n",
       "  </thead>\n",
       "  <tbody>\n",
       "    <tr>\n",
       "      <th>118</th>\n",
       "      <td>Discount_offered</td>\n",
       "      <td>Reached_on_Time_Y_N</td>\n",
       "      <td>0.416357</td>\n",
       "      <td>0.173353</td>\n",
       "    </tr>\n",
       "    <tr>\n",
       "      <th>119</th>\n",
       "      <td>Weight_in_gms</td>\n",
       "      <td>Reached_on_Time_Y_N</td>\n",
       "      <td>-0.326877</td>\n",
       "      <td>0.106849</td>\n",
       "    </tr>\n",
       "    <tr>\n",
       "      <th>114</th>\n",
       "      <td>Cost_of_the_Product</td>\n",
       "      <td>Reached_on_Time_Y_N</td>\n",
       "      <td>-0.083470</td>\n",
       "      <td>0.006967</td>\n",
       "    </tr>\n",
       "    <tr>\n",
       "      <th>112</th>\n",
       "      <td>Customer_care_calls</td>\n",
       "      <td>Reached_on_Time_Y_N</td>\n",
       "      <td>-0.072261</td>\n",
       "      <td>0.005222</td>\n",
       "    </tr>\n",
       "    <tr>\n",
       "      <th>115</th>\n",
       "      <td>Prior_purchases</td>\n",
       "      <td>Reached_on_Time_Y_N</td>\n",
       "      <td>-0.048269</td>\n",
       "      <td>0.002330</td>\n",
       "    </tr>\n",
       "    <tr>\n",
       "      <th>111</th>\n",
       "      <td>Mode_of_Shipment</td>\n",
       "      <td>Reached_on_Time_Y_N</td>\n",
       "      <td>-0.016414</td>\n",
       "      <td>0.000269</td>\n",
       "    </tr>\n",
       "    <tr>\n",
       "      <th>116</th>\n",
       "      <td>Product_importance</td>\n",
       "      <td>Reached_on_Time_Y_N</td>\n",
       "      <td>-0.014361</td>\n",
       "      <td>0.000206</td>\n",
       "    </tr>\n",
       "    <tr>\n",
       "      <th>113</th>\n",
       "      <td>Customer_rating</td>\n",
       "      <td>Reached_on_Time_Y_N</td>\n",
       "      <td>0.011045</td>\n",
       "      <td>0.000122</td>\n",
       "    </tr>\n",
       "    <tr>\n",
       "      <th>117</th>\n",
       "      <td>Gender</td>\n",
       "      <td>Reached_on_Time_Y_N</td>\n",
       "      <td>-0.002881</td>\n",
       "      <td>0.000008</td>\n",
       "    </tr>\n",
       "    <tr>\n",
       "      <th>110</th>\n",
       "      <td>Warehouse_block</td>\n",
       "      <td>Reached_on_Time_Y_N</td>\n",
       "      <td>0.002182</td>\n",
       "      <td>0.000005</td>\n",
       "    </tr>\n",
       "  </tbody>\n",
       "</table>\n",
       "</div>"
      ],
      "text/plain": [
       "                      v1                   v2         R        R2\n",
       "118     Discount_offered  Reached_on_Time_Y_N  0.416357  0.173353\n",
       "119        Weight_in_gms  Reached_on_Time_Y_N -0.326877  0.106849\n",
       "114  Cost_of_the_Product  Reached_on_Time_Y_N -0.083470  0.006967\n",
       "112  Customer_care_calls  Reached_on_Time_Y_N -0.072261  0.005222\n",
       "115      Prior_purchases  Reached_on_Time_Y_N -0.048269  0.002330\n",
       "111     Mode_of_Shipment  Reached_on_Time_Y_N -0.016414  0.000269\n",
       "116   Product_importance  Reached_on_Time_Y_N -0.014361  0.000206\n",
       "113      Customer_rating  Reached_on_Time_Y_N  0.011045  0.000122\n",
       "117               Gender  Reached_on_Time_Y_N -0.002881  0.000008\n",
       "110      Warehouse_block  Reached_on_Time_Y_N  0.002182  0.000005"
      ]
     },
     "execution_count": 20,
     "metadata": {},
     "output_type": "execute_result"
    }
   ],
   "source": [
    "res_target_ordered=res[res['v2']=='Reached_on_Time_Y_N'].sort_values('R2', ascending=False)\n",
    "res_target_ordered"
   ]
  },
  {
   "cell_type": "code",
   "execution_count": 21,
   "metadata": {},
   "outputs": [
    {
     "data": {
      "text/plain": [
       "118       Discount_offered\n",
       "119          Weight_in_gms\n",
       "114    Cost_of_the_Product\n",
       "112    Customer_care_calls\n",
       "115        Prior_purchases\n",
       "Name: v1, dtype: object"
      ]
     },
     "execution_count": 21,
     "metadata": {},
     "output_type": "execute_result"
    }
   ],
   "source": [
    "# Top 3:\n",
    "top_vars=res_target_ordered[0:5]['v1']\n",
    "top_vars"
   ]
  },
  {
   "cell_type": "markdown",
   "metadata": {},
   "source": [
    "mostramos todas las variable que no tiene correlacion con Reached_on_Time_Y_N que son"
   ]
  },
  {
   "cell_type": "code",
   "execution_count": 22,
   "metadata": {},
   "outputs": [
    {
     "data": {
      "text/html": [
       "<div>\n",
       "<style scoped>\n",
       "    .dataframe tbody tr th:only-of-type {\n",
       "        vertical-align: middle;\n",
       "    }\n",
       "\n",
       "    .dataframe tbody tr th {\n",
       "        vertical-align: top;\n",
       "    }\n",
       "\n",
       "    .dataframe thead th {\n",
       "        text-align: right;\n",
       "    }\n",
       "</style>\n",
       "<table border=\"1\" class=\"dataframe\">\n",
       "  <thead>\n",
       "    <tr style=\"text-align: right;\">\n",
       "      <th></th>\n",
       "      <th>v1</th>\n",
       "      <th>v2</th>\n",
       "      <th>R</th>\n",
       "      <th>R2</th>\n",
       "    </tr>\n",
       "  </thead>\n",
       "  <tbody>\n",
       "    <tr>\n",
       "      <th>118</th>\n",
       "      <td>Discount_offered</td>\n",
       "      <td>Reached_on_Time_Y_N</td>\n",
       "      <td>0.416357</td>\n",
       "      <td>0.173353</td>\n",
       "    </tr>\n",
       "    <tr>\n",
       "      <th>119</th>\n",
       "      <td>Weight_in_gms</td>\n",
       "      <td>Reached_on_Time_Y_N</td>\n",
       "      <td>-0.326877</td>\n",
       "      <td>0.106849</td>\n",
       "    </tr>\n",
       "    <tr>\n",
       "      <th>114</th>\n",
       "      <td>Cost_of_the_Product</td>\n",
       "      <td>Reached_on_Time_Y_N</td>\n",
       "      <td>-0.083470</td>\n",
       "      <td>0.006967</td>\n",
       "    </tr>\n",
       "    <tr>\n",
       "      <th>112</th>\n",
       "      <td>Customer_care_calls</td>\n",
       "      <td>Reached_on_Time_Y_N</td>\n",
       "      <td>-0.072261</td>\n",
       "      <td>0.005222</td>\n",
       "    </tr>\n",
       "    <tr>\n",
       "      <th>115</th>\n",
       "      <td>Prior_purchases</td>\n",
       "      <td>Reached_on_Time_Y_N</td>\n",
       "      <td>-0.048269</td>\n",
       "      <td>0.002330</td>\n",
       "    </tr>\n",
       "    <tr>\n",
       "      <th>111</th>\n",
       "      <td>Mode_of_Shipment</td>\n",
       "      <td>Reached_on_Time_Y_N</td>\n",
       "      <td>-0.016414</td>\n",
       "      <td>0.000269</td>\n",
       "    </tr>\n",
       "    <tr>\n",
       "      <th>116</th>\n",
       "      <td>Product_importance</td>\n",
       "      <td>Reached_on_Time_Y_N</td>\n",
       "      <td>-0.014361</td>\n",
       "      <td>0.000206</td>\n",
       "    </tr>\n",
       "    <tr>\n",
       "      <th>113</th>\n",
       "      <td>Customer_rating</td>\n",
       "      <td>Reached_on_Time_Y_N</td>\n",
       "      <td>0.011045</td>\n",
       "      <td>0.000122</td>\n",
       "    </tr>\n",
       "    <tr>\n",
       "      <th>117</th>\n",
       "      <td>Gender</td>\n",
       "      <td>Reached_on_Time_Y_N</td>\n",
       "      <td>-0.002881</td>\n",
       "      <td>0.000008</td>\n",
       "    </tr>\n",
       "    <tr>\n",
       "      <th>110</th>\n",
       "      <td>Warehouse_block</td>\n",
       "      <td>Reached_on_Time_Y_N</td>\n",
       "      <td>0.002182</td>\n",
       "      <td>0.000005</td>\n",
       "    </tr>\n",
       "  </tbody>\n",
       "</table>\n",
       "</div>"
      ],
      "text/plain": [
       "                      v1                   v2         R        R2\n",
       "118     Discount_offered  Reached_on_Time_Y_N  0.416357  0.173353\n",
       "119        Weight_in_gms  Reached_on_Time_Y_N -0.326877  0.106849\n",
       "114  Cost_of_the_Product  Reached_on_Time_Y_N -0.083470  0.006967\n",
       "112  Customer_care_calls  Reached_on_Time_Y_N -0.072261  0.005222\n",
       "115      Prior_purchases  Reached_on_Time_Y_N -0.048269  0.002330\n",
       "111     Mode_of_Shipment  Reached_on_Time_Y_N -0.016414  0.000269\n",
       "116   Product_importance  Reached_on_Time_Y_N -0.014361  0.000206\n",
       "113      Customer_rating  Reached_on_Time_Y_N  0.011045  0.000122\n",
       "117               Gender  Reached_on_Time_Y_N -0.002881  0.000008\n",
       "110      Warehouse_block  Reached_on_Time_Y_N  0.002182  0.000005"
      ]
     },
     "execution_count": 22,
     "metadata": {},
     "output_type": "execute_result"
    }
   ],
   "source": [
    "res_target_ordered[res_target_ordered['R2']<0.05]['v1']\n",
    "res_target_ordered"
   ]
  },
  {
   "cell_type": "markdown",
   "metadata": {},
   "source": [
    "----------------------------------------------------------------------------------------------------------------------------------------"
   ]
  },
  {
   "cell_type": "code",
   "execution_count": 23,
   "metadata": {},
   "outputs": [
    {
     "data": {
      "text/plain": [
       "<AxesSubplot:>"
      ]
     },
     "execution_count": 23,
     "metadata": {},
     "output_type": "execute_result"
    },
    {
     "data": {
      "image/png": "[encoded data removed]",
      "text/plain": [
       "<Figure size 432x288 with 2 Axes>"
      ]
     },
     "metadata": {
      "needs_background": "light"
     },
     "output_type": "display_data"
    }
   ],
   "source": [
    "correlacion = data_train.corr()\n",
    "sns.heatmap(correlacion, annot=True)"
   ]
  },
  {
   "cell_type": "markdown",
   "metadata": {},
   "source": [
    "regresion logistica - con MinMaxScaler\n"
   ]
  },
  {
   "cell_type": "code",
   "execution_count": 44,
   "metadata": {},
   "outputs": [],
   "source": [
    "#feature_cols = [\"Cost_of_the_Product\",\"Customer_care_calls\",\"Prior_purchases\"]#filtramos nuestras columnas con mejor correlacion\n",
    "feature_cols = [\"Customer_care_calls\",\"Cost_of_the_Product\",\"Discount_offered\",\"Weight_in_gms\",\"Prior_purchases\"]\n",
    "x = data_train[feature_cols]\n",
    "y = data_train.Reached_on_Time_Y_N\n",
    "# ahora dividiremos nuestros datos para el train y test \n",
    "X_train, X_test, y_train, y_test = train_test_split(x, y, test_size = 0.25, random_state = 52)\n",
    "\n"
   ]
  },
  {
   "cell_type": "markdown",
   "metadata": {},
   "source": [
    "balancemos nuestros datos "
   ]
  },
  {
   "cell_type": "code",
   "execution_count": 45,
   "metadata": {},
   "outputs": [],
   "source": [
    "sm = SMOTE() \n",
    "X_train_res, y_train_res = sm.fit_resample(X_train, y_train.ravel()) "
   ]
  },
  {
   "cell_type": "code",
   "execution_count": 48,
   "metadata": {},
   "outputs": [],
   "source": [
    "#scalamos nustros datos \n",
    "from sklearn.preprocessing import MinMaxScaler\n",
    "ms = MinMaxScaler()\n",
    "X_train_res = ms.fit_transform(X_train_res)\n",
    "X_test = ms.fit_transform(X_test)"
   ]
  },
  {
   "cell_type": "code",
   "execution_count": 49,
   "metadata": {},
   "outputs": [
    {
     "name": "stdout",
     "output_type": "stream",
     "text": [
      "              precision    recall  f1-score   support\n",
      "\n",
      "           0       0.54      0.90      0.68       840\n",
      "           1       0.90      0.54      0.68      1410\n",
      "\n",
      "    accuracy                           0.68      2250\n",
      "   macro avg       0.72      0.72      0.68      2250\n",
      "weighted avg       0.77      0.68      0.68      2250\n",
      "\n",
      "[[760  80]\n",
      " [649 761]]\n",
      "El score del modelo es: 0.5397163120567375\n"
     ]
    }
   ],
   "source": [
    "#entrenamos nuestro modelo  logistico\n",
    "modelo_logistico = LogisticRegression() #\n",
    "modelo_logistico.fit(X_train_res, y_train_res) #entrenamos  con todo los datos \n",
    "predictions = modelo_logistico.predict(X_test) # predecimos \n",
    "\n",
    "print(classification_report(y_test, predictions)) #\n",
    "cm=confusion_matrix(y_test,predictions)#mostramos la matris de confucion para ver cuantos datos estna prediciendo  0 y 1\n",
    "print(cm)\n",
    "\n",
    "from sklearn.metrics import recall_score\n",
    "print('El score del modelo es:', recall_score(y_test, predictions))\n"
   ]
  },
  {
   "cell_type": "markdown",
   "metadata": {},
   "source": [
    "SE MUESTRAN LOS COEFICIENTES DEL MODELO "
   ]
  },
  {
   "cell_type": "code",
   "execution_count": 50,
   "metadata": {},
   "outputs": [
    {
     "data": {
      "text/plain": [
       "array([[-0.06509078, -0.79641318,  7.98817923, -1.7898747 , -0.01574448]])"
      ]
     },
     "execution_count": 50,
     "metadata": {},
     "output_type": "execute_result"
    }
   ],
   "source": [
    "modelo_logistico.coef_ #estos son los parametros quemejor ajustan al modelo "
   ]
  },
  {
   "cell_type": "markdown",
   "metadata": {},
   "source": [
    "calculamos el recall"
   ]
  },
  {
   "cell_type": "code",
   "execution_count": 51,
   "metadata": {},
   "outputs": [
    {
     "name": "stdout",
     "output_type": "stream",
     "text": [
      "Recall  : 0.5394\n"
     ]
    }
   ],
   "source": [
    "TP = cm[0,0]\n",
    "TN = cm[1,1]\n",
    "FP = cm[0,1]\n",
    "FN = cm[1,0]\n",
    "\n",
    "recall = TP / float(TP + FN)\n",
    "\n",
    "print('Recall  : {0:0.4f}'.format(recall))"
   ]
  },
  {
   "cell_type": "markdown",
   "metadata": {},
   "source": [
    "utilizaremos nuestro dataframe data_test que contiene datos para pedecir , escogemos  las mismas columnas a la hora  de entrenarlo "
   ]
  },
  {
   "cell_type": "code",
   "execution_count": 55,
   "metadata": {},
   "outputs": [
    {
     "name": "stdout",
     "output_type": "stream",
     "text": [
      "[1 1 0 ... 1 1 1]\n"
     ]
    }
   ],
   "source": [
    "data_test= data_test[feature_cols]\n",
    "from sklearn.preprocessing import MinMaxScaler\n",
    "ms = MinMaxScaler()\n",
    "data_test = ms.fit_transform(data_test)\n",
    "predictions_test = modelo_logistico.predict(data_test) #predecimos con el modelo \n",
    "print (predictions_test)"
   ]
  },
  {
   "cell_type": "markdown",
   "metadata": {},
   "source": [
    "creamos un dataframe para almecenar nuestros resultados "
   ]
  },
  {
   "cell_type": "code",
   "execution_count": 56,
   "metadata": {},
   "outputs": [],
   "source": [
    "from sklearn.metrics import accuracy_score \n",
    "from  sklearn.metrics import  confusion_matrix\n",
    "columnas = ['pred'] # definimos los nombres de las columnas\n",
    "df_predic = pd.DataFrame(predictions_test,columns=columnas) \n",
    "df_predic.to_csv(\"josleo.csv\",index=False)#exportamos los resutladoresultadoss "
   ]
  }
 ],
 "metadata": {
  "kernelspec": {
   "display_name": "Python 3.9.7 64-bit",
   "language": "python",
   "name": "python3"
  },
  "language_info": {
   "codemirror_mode": {
    "name": "ipython",
    "version": 3
   },
   "file_extension": ".py",
   "mimetype": "text/x-python",
   "name": "python",
   "nbconvert_exporter": "python",
   "pygments_lexer": "ipython3",
   "version": "3.9.7"
  },
  "orig_nbformat": 4,
  "vscode": {
   "interpreter": {
    "hash": "cf92aa13fedf815d5c8dd192b8d835913fde3e8bc926b2a0ad6cc74ef2ba3ca2"
   }
  }
 },
 "nbformat": 4,
 "nbformat_minor": 2
}
