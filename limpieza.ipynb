{
 "cells": [
  {
   "cell_type": "markdown",
   "metadata": {},
   "source": [
    "importamos las librerias necesarias"
   ]
  },
  {
   "cell_type": "code",
   "execution_count": 2,
   "metadata": {},
   "outputs": [],
   "source": [
    "import pandas as pd\n",
    "import numpy as np\n",
    "import matplotlib.pyplot as plt \n",
    "import seaborn as sns\n",
    "from sklearn.preprocessing import StandardScaler\n",
    "from sklearn.model_selection import train_test_split\n",
    "from sklearn import metrics\n",
    "from sklearn.linear_model import LogisticRegression\n",
    "\n",
    "#Importamos los paquetes\n",
    "import pandas  as pd \n",
    "import matplotlib.pyplot as plt \n",
    "import numpy as np \n",
    "from sklearn.linear_model import LogisticRegression \n",
    "from sklearn.preprocessing import StandardScaler \n",
    "from sklearn.metrics import confusion_matrix, classification_report \n",
    "from imblearn.over_sampling import RandomOverSampler, SMOTE\n",
    "from imblearn.over_sampling import SMOTE "
   ]
  },
  {
   "cell_type": "markdown",
   "metadata": {},
   "source": [
    "damos un vistado al archvivo E-Commerce_test.xlsx y comprobamos que no tiene ningun dato faltante "
   ]
  },
  {
   "cell_type": "code",
   "execution_count": 3,
   "metadata": {},
   "outputs": [
    {
     "name": "stdout",
     "output_type": "stream",
     "text": [
      "<class 'pandas.core.frame.DataFrame'>\n",
      "RangeIndex: 2000 entries, 0 to 1999\n",
      "Data columns (total 11 columns):\n",
      " #   Column               Non-Null Count  Dtype \n",
      "---  ------               --------------  ----- \n",
      " 0   ID                   2000 non-null   int64 \n",
      " 1   Warehouse_block      2000 non-null   object\n",
      " 2   Mode_of_Shipment     2000 non-null   object\n",
      " 3   Customer_care_calls  2000 non-null   int64 \n",
      " 4   Customer_rating      2000 non-null   int64 \n",
      " 5   Cost_of_the_Product  2000 non-null   int64 \n",
      " 6   Prior_purchases      2000 non-null   int64 \n",
      " 7   Product_importance   2000 non-null   object\n",
      " 8   Gender               2000 non-null   object\n",
      " 9   Discount_offered     2000 non-null   int64 \n",
      " 10  Weight_in_gms        2000 non-null   int64 \n",
      "dtypes: int64(7), object(4)\n",
      "memory usage: 172.0+ KB\n"
     ]
    }
   ],
   "source": [
    "df_test = pd.read_excel(\"..\\PI01-2\\E-Commerce_test.xlsx\")\n",
    "df_test.info()\n"
   ]
  },
  {
   "cell_type": "markdown",
   "metadata": {},
   "source": [
    "damos un vistado al archvivo E-Commerce_test.xlsx y comprobamos que no tiene ningun dato faltante "
   ]
  },
  {
   "cell_type": "code",
   "execution_count": 4,
   "metadata": {},
   "outputs": [
    {
     "name": "stdout",
     "output_type": "stream",
     "text": [
      "<class 'pandas.core.frame.DataFrame'>\n",
      "RangeIndex: 8999 entries, 0 to 8998\n",
      "Data columns (total 12 columns):\n",
      " #   Column               Non-Null Count  Dtype \n",
      "---  ------               --------------  ----- \n",
      " 0   ID                   8999 non-null   int64 \n",
      " 1   Warehouse_block      8999 non-null   object\n",
      " 2   Mode_of_Shipment     8999 non-null   object\n",
      " 3   Customer_care_calls  8999 non-null   int64 \n",
      " 4   Customer_rating      8999 non-null   int64 \n",
      " 5   Cost_of_the_Product  8999 non-null   int64 \n",
      " 6   Prior_purchases      8999 non-null   int64 \n",
      " 7   Product_importance   8999 non-null   object\n",
      " 8   Gender               8999 non-null   object\n",
      " 9   Discount_offered     8999 non-null   int64 \n",
      " 10  Weight_in_gms        8999 non-null   int64 \n",
      " 11  Reached.on.Time_Y.N  8999 non-null   int64 \n",
      "dtypes: int64(8), object(4)\n",
      "memory usage: 843.8+ KB\n"
     ]
    }
   ],
   "source": [
    "df_train = pd.read_excel(\"..\\PI01-2\\E-Commerce_train.xlsx\")\n",
    "df_train.info()"
   ]
  },
  {
   "cell_type": "markdown",
   "metadata": {},
   "source": [
    "unimos nuestros  dos dataframe  para poder hacer mas facil el analis"
   ]
  },
  {
   "cell_type": "code",
   "execution_count": 5,
   "metadata": {},
   "outputs": [
    {
     "data": {
      "text/html": [
       "<div>\n",
       "<style scoped>\n",
       "    .dataframe tbody tr th:only-of-type {\n",
       "        vertical-align: middle;\n",
       "    }\n",
       "\n",
       "    .dataframe tbody tr th {\n",
       "        vertical-align: top;\n",
       "    }\n",
       "\n",
       "    .dataframe thead th {\n",
       "        text-align: right;\n",
       "    }\n",
       "</style>\n",
       "<table border=\"1\" class=\"dataframe\">\n",
       "  <thead>\n",
       "    <tr style=\"text-align: right;\">\n",
       "      <th></th>\n",
       "      <th>ID</th>\n",
       "      <th>Warehouse_block</th>\n",
       "      <th>Mode_of_Shipment</th>\n",
       "      <th>Customer_care_calls</th>\n",
       "      <th>Customer_rating</th>\n",
       "      <th>Cost_of_the_Product</th>\n",
       "      <th>Prior_purchases</th>\n",
       "      <th>Product_importance</th>\n",
       "      <th>Gender</th>\n",
       "      <th>Discount_offered</th>\n",
       "      <th>Weight_in_gms</th>\n",
       "      <th>Reached.on.Time_Y.N</th>\n",
       "    </tr>\n",
       "  </thead>\n",
       "  <tbody>\n",
       "    <tr>\n",
       "      <th>0</th>\n",
       "      <td>1</td>\n",
       "      <td>D</td>\n",
       "      <td>Flight</td>\n",
       "      <td>4</td>\n",
       "      <td>2</td>\n",
       "      <td>177</td>\n",
       "      <td>3</td>\n",
       "      <td>low</td>\n",
       "      <td>F</td>\n",
       "      <td>44</td>\n",
       "      <td>1233</td>\n",
       "      <td>1.0</td>\n",
       "    </tr>\n",
       "    <tr>\n",
       "      <th>1</th>\n",
       "      <td>2</td>\n",
       "      <td>F</td>\n",
       "      <td>Flight</td>\n",
       "      <td>4</td>\n",
       "      <td>5</td>\n",
       "      <td>216</td>\n",
       "      <td>2</td>\n",
       "      <td>low</td>\n",
       "      <td>M</td>\n",
       "      <td>59</td>\n",
       "      <td>3088</td>\n",
       "      <td>1.0</td>\n",
       "    </tr>\n",
       "    <tr>\n",
       "      <th>2</th>\n",
       "      <td>3</td>\n",
       "      <td>A</td>\n",
       "      <td>Flight</td>\n",
       "      <td>2</td>\n",
       "      <td>2</td>\n",
       "      <td>183</td>\n",
       "      <td>4</td>\n",
       "      <td>low</td>\n",
       "      <td>M</td>\n",
       "      <td>48</td>\n",
       "      <td>3374</td>\n",
       "      <td>1.0</td>\n",
       "    </tr>\n",
       "    <tr>\n",
       "      <th>3</th>\n",
       "      <td>4</td>\n",
       "      <td>B</td>\n",
       "      <td>Flight</td>\n",
       "      <td>3</td>\n",
       "      <td>3</td>\n",
       "      <td>176</td>\n",
       "      <td>4</td>\n",
       "      <td>medium</td>\n",
       "      <td>M</td>\n",
       "      <td>10</td>\n",
       "      <td>1177</td>\n",
       "      <td>1.0</td>\n",
       "    </tr>\n",
       "    <tr>\n",
       "      <th>4</th>\n",
       "      <td>5</td>\n",
       "      <td>C</td>\n",
       "      <td>Flight</td>\n",
       "      <td>2</td>\n",
       "      <td>2</td>\n",
       "      <td>184</td>\n",
       "      <td>3</td>\n",
       "      <td>medium</td>\n",
       "      <td>F</td>\n",
       "      <td>46</td>\n",
       "      <td>2484</td>\n",
       "      <td>1.0</td>\n",
       "    </tr>\n",
       "    <tr>\n",
       "      <th>...</th>\n",
       "      <td>...</td>\n",
       "      <td>...</td>\n",
       "      <td>...</td>\n",
       "      <td>...</td>\n",
       "      <td>...</td>\n",
       "      <td>...</td>\n",
       "      <td>...</td>\n",
       "      <td>...</td>\n",
       "      <td>...</td>\n",
       "      <td>...</td>\n",
       "      <td>...</td>\n",
       "      <td>...</td>\n",
       "    </tr>\n",
       "    <tr>\n",
       "      <th>1995</th>\n",
       "      <td>10995</td>\n",
       "      <td>A</td>\n",
       "      <td>Ship</td>\n",
       "      <td>4</td>\n",
       "      <td>1</td>\n",
       "      <td>252</td>\n",
       "      <td>5</td>\n",
       "      <td>medium</td>\n",
       "      <td>F</td>\n",
       "      <td>1</td>\n",
       "      <td>1538</td>\n",
       "      <td>NaN</td>\n",
       "    </tr>\n",
       "    <tr>\n",
       "      <th>1996</th>\n",
       "      <td>10996</td>\n",
       "      <td>B</td>\n",
       "      <td>Ship</td>\n",
       "      <td>4</td>\n",
       "      <td>1</td>\n",
       "      <td>232</td>\n",
       "      <td>5</td>\n",
       "      <td>medium</td>\n",
       "      <td>F</td>\n",
       "      <td>6</td>\n",
       "      <td>1247</td>\n",
       "      <td>NaN</td>\n",
       "    </tr>\n",
       "    <tr>\n",
       "      <th>1997</th>\n",
       "      <td>10997</td>\n",
       "      <td>C</td>\n",
       "      <td>Ship</td>\n",
       "      <td>5</td>\n",
       "      <td>4</td>\n",
       "      <td>242</td>\n",
       "      <td>5</td>\n",
       "      <td>low</td>\n",
       "      <td>F</td>\n",
       "      <td>4</td>\n",
       "      <td>1155</td>\n",
       "      <td>NaN</td>\n",
       "    </tr>\n",
       "    <tr>\n",
       "      <th>1998</th>\n",
       "      <td>10998</td>\n",
       "      <td>F</td>\n",
       "      <td>Ship</td>\n",
       "      <td>5</td>\n",
       "      <td>2</td>\n",
       "      <td>223</td>\n",
       "      <td>6</td>\n",
       "      <td>medium</td>\n",
       "      <td>M</td>\n",
       "      <td>2</td>\n",
       "      <td>1210</td>\n",
       "      <td>NaN</td>\n",
       "    </tr>\n",
       "    <tr>\n",
       "      <th>1999</th>\n",
       "      <td>10999</td>\n",
       "      <td>D</td>\n",
       "      <td>Ship</td>\n",
       "      <td>2</td>\n",
       "      <td>5</td>\n",
       "      <td>155</td>\n",
       "      <td>5</td>\n",
       "      <td>low</td>\n",
       "      <td>F</td>\n",
       "      <td>6</td>\n",
       "      <td>1639</td>\n",
       "      <td>NaN</td>\n",
       "    </tr>\n",
       "  </tbody>\n",
       "</table>\n",
       "<p>10999 rows × 12 columns</p>\n",
       "</div>"
      ],
      "text/plain": [
       "         ID Warehouse_block Mode_of_Shipment  Customer_care_calls  \\\n",
       "0         1               D           Flight                    4   \n",
       "1         2               F           Flight                    4   \n",
       "2         3               A           Flight                    2   \n",
       "3         4               B           Flight                    3   \n",
       "4         5               C           Flight                    2   \n",
       "...     ...             ...              ...                  ...   \n",
       "1995  10995               A             Ship                    4   \n",
       "1996  10996               B             Ship                    4   \n",
       "1997  10997               C             Ship                    5   \n",
       "1998  10998               F             Ship                    5   \n",
       "1999  10999               D             Ship                    2   \n",
       "\n",
       "      Customer_rating  Cost_of_the_Product  Prior_purchases  \\\n",
       "0                   2                  177                3   \n",
       "1                   5                  216                2   \n",
       "2                   2                  183                4   \n",
       "3                   3                  176                4   \n",
       "4                   2                  184                3   \n",
       "...               ...                  ...              ...   \n",
       "1995                1                  252                5   \n",
       "1996                1                  232                5   \n",
       "1997                4                  242                5   \n",
       "1998                2                  223                6   \n",
       "1999                5                  155                5   \n",
       "\n",
       "     Product_importance Gender  Discount_offered  Weight_in_gms  \\\n",
       "0                   low      F                44           1233   \n",
       "1                   low      M                59           3088   \n",
       "2                   low      M                48           3374   \n",
       "3                medium      M                10           1177   \n",
       "4                medium      F                46           2484   \n",
       "...                 ...    ...               ...            ...   \n",
       "1995             medium      F                 1           1538   \n",
       "1996             medium      F                 6           1247   \n",
       "1997                low      F                 4           1155   \n",
       "1998             medium      M                 2           1210   \n",
       "1999                low      F                 6           1639   \n",
       "\n",
       "      Reached.on.Time_Y.N  \n",
       "0                     1.0  \n",
       "1                     1.0  \n",
       "2                     1.0  \n",
       "3                     1.0  \n",
       "4                     1.0  \n",
       "...                   ...  \n",
       "1995                  NaN  \n",
       "1996                  NaN  \n",
       "1997                  NaN  \n",
       "1998                  NaN  \n",
       "1999                  NaN  \n",
       "\n",
       "[10999 rows x 12 columns]"
      ]
     },
     "execution_count": 5,
     "metadata": {},
     "output_type": "execute_result"
    }
   ],
   "source": [
    "df = pd.concat([df_train, df_test])\n",
    "df"
   ]
  },
  {
   "cell_type": "markdown",
   "metadata": {},
   "source": [
    "mostramos las cantidad de datos "
   ]
  },
  {
   "cell_type": "code",
   "execution_count": 6,
   "metadata": {},
   "outputs": [
    {
     "data": {
      "text/plain": [
       "(10999, 12)"
      ]
     },
     "execution_count": 6,
     "metadata": {},
     "output_type": "execute_result"
    }
   ],
   "source": [
    "df.shape"
   ]
  },
  {
   "cell_type": "markdown",
   "metadata": {},
   "source": [
    "vemos la informacion que tiene nuestro nuevo dataframe "
   ]
  },
  {
   "cell_type": "code",
   "execution_count": 7,
   "metadata": {},
   "outputs": [
    {
     "name": "stdout",
     "output_type": "stream",
     "text": [
      "<class 'pandas.core.frame.DataFrame'>\n",
      "Int64Index: 10999 entries, 0 to 1999\n",
      "Data columns (total 12 columns):\n",
      " #   Column               Non-Null Count  Dtype  \n",
      "---  ------               --------------  -----  \n",
      " 0   ID                   10999 non-null  int64  \n",
      " 1   Warehouse_block      10999 non-null  object \n",
      " 2   Mode_of_Shipment     10999 non-null  object \n",
      " 3   Customer_care_calls  10999 non-null  int64  \n",
      " 4   Customer_rating      10999 non-null  int64  \n",
      " 5   Cost_of_the_Product  10999 non-null  int64  \n",
      " 6   Prior_purchases      10999 non-null  int64  \n",
      " 7   Product_importance   10999 non-null  object \n",
      " 8   Gender               10999 non-null  object \n",
      " 9   Discount_offered     10999 non-null  int64  \n",
      " 10  Weight_in_gms        10999 non-null  int64  \n",
      " 11  Reached.on.Time_Y.N  8999 non-null   float64\n",
      "dtypes: float64(1), int64(7), object(4)\n",
      "memory usage: 1.1+ MB\n"
     ]
    }
   ],
   "source": [
    "df.info()"
   ]
  },
  {
   "cell_type": "markdown",
   "metadata": {},
   "source": [
    "relizaremos un cambio de valores a nuestros datos en la tabla \"Product_importance\"\n",
    "#cambiamos los valors para la columna Product_importance  , low=3 , medium =2 ,high =1"
   ]
  },
  {
   "cell_type": "code",
   "execution_count": 8,
   "metadata": {},
   "outputs": [],
   "source": [
    "#cambiamos los valors para la columna Product_importance  , low=3 , medium =2 ,high =1\n",
    "df[\"Product_importance\"]  =df[\"Product_importance\"].replace([\"low\"],3)\n",
    "df[\"Product_importance\"]  =df[\"Product_importance\"].replace([\"medium\"],2)\n",
    "df[\"Product_importance\"]  =df[\"Product_importance\"].replace([\"high\"],1)\n"
   ]
  },
  {
   "cell_type": "markdown",
   "metadata": {},
   "source": [
    "relizaremos un cambio de valores a nuestros datos en la tabla \"Mode_of_Shipment\"\n",
    "#cambiamos los valors para la columna Product_importance  , Flight=2 , Ship =2 ,Road =3"
   ]
  },
  {
   "cell_type": "code",
   "execution_count": 9,
   "metadata": {},
   "outputs": [],
   "source": [
    "#cambiamos los valors para la columna Product_importance  , Flight=2 , Ship =2 ,Road =3\n",
    "df[\"Mode_of_Shipment\"]  =df[\"Mode_of_Shipment\"].replace([\"Flight\"],1)\n",
    "df[\"Mode_of_Shipment\"]  =df[\"Mode_of_Shipment\"].replace([\"Ship\"],2)\n",
    "df[\"Mode_of_Shipment\"]  =df[\"Mode_of_Shipment\"].replace([\"Road\"],3)\n"
   ]
  },
  {
   "cell_type": "markdown",
   "metadata": {},
   "source": [
    "converirmos neustra tabla \"Warehouse_block\" en valores numericos con la funcion ord"
   ]
  },
  {
   "cell_type": "code",
   "execution_count": 10,
   "metadata": {},
   "outputs": [],
   "source": [
    "#converitmos el campo Warehouse_block por valores numericos \n",
    "df[\"Warehouse_block\"] = np.vectorize(ord)(df[\"Warehouse_block\"])"
   ]
  },
  {
   "cell_type": "markdown",
   "metadata": {},
   "source": [
    "eliminaremos nuestra columna \"gender\" "
   ]
  },
  {
   "cell_type": "code",
   "execution_count": 11,
   "metadata": {},
   "outputs": [],
   "source": [
    "#eliminamos la columna ID y gender\n",
    "#df=df.drop(['ID'], axis=1)\n",
    "#df=df.drop(['Gender'], axis=1)\n",
    "\n",
    "df[\"Gender\"]  =df[\"Gender\"].replace([\"F\"],1)\n",
    "df[\"Gender\"]  =df[\"Gender\"].replace([\"M\"],0)"
   ]
  },
  {
   "cell_type": "markdown",
   "metadata": {},
   "source": [
    "renombramos nuestra columnaa 'Reached.on.Time_Y.N\" por Reached"
   ]
  },
  {
   "cell_type": "code",
   "execution_count": 12,
   "metadata": {},
   "outputs": [],
   "source": [
    "# renombramos el nombre de la columna eached.on.Time_Y.N por eached\n",
    "df.rename(columns={'Reached.on.Time_Y.N':'Reached',},inplace=True)\n",
    "\n"
   ]
  },
  {
   "cell_type": "markdown",
   "metadata": {},
   "source": [
    "vizulizamos nuestro neuvo dataframe "
   ]
  },
  {
   "cell_type": "code",
   "execution_count": 13,
   "metadata": {},
   "outputs": [
    {
     "data": {
      "text/html": [
       "<div>\n",
       "<style scoped>\n",
       "    .dataframe tbody tr th:only-of-type {\n",
       "        vertical-align: middle;\n",
       "    }\n",
       "\n",
       "    .dataframe tbody tr th {\n",
       "        vertical-align: top;\n",
       "    }\n",
       "\n",
       "    .dataframe thead th {\n",
       "        text-align: right;\n",
       "    }\n",
       "</style>\n",
       "<table border=\"1\" class=\"dataframe\">\n",
       "  <thead>\n",
       "    <tr style=\"text-align: right;\">\n",
       "      <th></th>\n",
       "      <th>ID</th>\n",
       "      <th>Warehouse_block</th>\n",
       "      <th>Mode_of_Shipment</th>\n",
       "      <th>Customer_care_calls</th>\n",
       "      <th>Customer_rating</th>\n",
       "      <th>Cost_of_the_Product</th>\n",
       "      <th>Prior_purchases</th>\n",
       "      <th>Product_importance</th>\n",
       "      <th>Gender</th>\n",
       "      <th>Discount_offered</th>\n",
       "      <th>Weight_in_gms</th>\n",
       "      <th>Reached</th>\n",
       "    </tr>\n",
       "  </thead>\n",
       "  <tbody>\n",
       "    <tr>\n",
       "      <th>0</th>\n",
       "      <td>1</td>\n",
       "      <td>68</td>\n",
       "      <td>1</td>\n",
       "      <td>4</td>\n",
       "      <td>2</td>\n",
       "      <td>177</td>\n",
       "      <td>3</td>\n",
       "      <td>3</td>\n",
       "      <td>1</td>\n",
       "      <td>44</td>\n",
       "      <td>1233</td>\n",
       "      <td>1.0</td>\n",
       "    </tr>\n",
       "    <tr>\n",
       "      <th>1</th>\n",
       "      <td>2</td>\n",
       "      <td>70</td>\n",
       "      <td>1</td>\n",
       "      <td>4</td>\n",
       "      <td>5</td>\n",
       "      <td>216</td>\n",
       "      <td>2</td>\n",
       "      <td>3</td>\n",
       "      <td>0</td>\n",
       "      <td>59</td>\n",
       "      <td>3088</td>\n",
       "      <td>1.0</td>\n",
       "    </tr>\n",
       "    <tr>\n",
       "      <th>2</th>\n",
       "      <td>3</td>\n",
       "      <td>65</td>\n",
       "      <td>1</td>\n",
       "      <td>2</td>\n",
       "      <td>2</td>\n",
       "      <td>183</td>\n",
       "      <td>4</td>\n",
       "      <td>3</td>\n",
       "      <td>0</td>\n",
       "      <td>48</td>\n",
       "      <td>3374</td>\n",
       "      <td>1.0</td>\n",
       "    </tr>\n",
       "    <tr>\n",
       "      <th>3</th>\n",
       "      <td>4</td>\n",
       "      <td>66</td>\n",
       "      <td>1</td>\n",
       "      <td>3</td>\n",
       "      <td>3</td>\n",
       "      <td>176</td>\n",
       "      <td>4</td>\n",
       "      <td>2</td>\n",
       "      <td>0</td>\n",
       "      <td>10</td>\n",
       "      <td>1177</td>\n",
       "      <td>1.0</td>\n",
       "    </tr>\n",
       "    <tr>\n",
       "      <th>4</th>\n",
       "      <td>5</td>\n",
       "      <td>67</td>\n",
       "      <td>1</td>\n",
       "      <td>2</td>\n",
       "      <td>2</td>\n",
       "      <td>184</td>\n",
       "      <td>3</td>\n",
       "      <td>2</td>\n",
       "      <td>1</td>\n",
       "      <td>46</td>\n",
       "      <td>2484</td>\n",
       "      <td>1.0</td>\n",
       "    </tr>\n",
       "    <tr>\n",
       "      <th>...</th>\n",
       "      <td>...</td>\n",
       "      <td>...</td>\n",
       "      <td>...</td>\n",
       "      <td>...</td>\n",
       "      <td>...</td>\n",
       "      <td>...</td>\n",
       "      <td>...</td>\n",
       "      <td>...</td>\n",
       "      <td>...</td>\n",
       "      <td>...</td>\n",
       "      <td>...</td>\n",
       "      <td>...</td>\n",
       "    </tr>\n",
       "    <tr>\n",
       "      <th>1995</th>\n",
       "      <td>10995</td>\n",
       "      <td>65</td>\n",
       "      <td>2</td>\n",
       "      <td>4</td>\n",
       "      <td>1</td>\n",
       "      <td>252</td>\n",
       "      <td>5</td>\n",
       "      <td>2</td>\n",
       "      <td>1</td>\n",
       "      <td>1</td>\n",
       "      <td>1538</td>\n",
       "      <td>NaN</td>\n",
       "    </tr>\n",
       "    <tr>\n",
       "      <th>1996</th>\n",
       "      <td>10996</td>\n",
       "      <td>66</td>\n",
       "      <td>2</td>\n",
       "      <td>4</td>\n",
       "      <td>1</td>\n",
       "      <td>232</td>\n",
       "      <td>5</td>\n",
       "      <td>2</td>\n",
       "      <td>1</td>\n",
       "      <td>6</td>\n",
       "      <td>1247</td>\n",
       "      <td>NaN</td>\n",
       "    </tr>\n",
       "    <tr>\n",
       "      <th>1997</th>\n",
       "      <td>10997</td>\n",
       "      <td>67</td>\n",
       "      <td>2</td>\n",
       "      <td>5</td>\n",
       "      <td>4</td>\n",
       "      <td>242</td>\n",
       "      <td>5</td>\n",
       "      <td>3</td>\n",
       "      <td>1</td>\n",
       "      <td>4</td>\n",
       "      <td>1155</td>\n",
       "      <td>NaN</td>\n",
       "    </tr>\n",
       "    <tr>\n",
       "      <th>1998</th>\n",
       "      <td>10998</td>\n",
       "      <td>70</td>\n",
       "      <td>2</td>\n",
       "      <td>5</td>\n",
       "      <td>2</td>\n",
       "      <td>223</td>\n",
       "      <td>6</td>\n",
       "      <td>2</td>\n",
       "      <td>0</td>\n",
       "      <td>2</td>\n",
       "      <td>1210</td>\n",
       "      <td>NaN</td>\n",
       "    </tr>\n",
       "    <tr>\n",
       "      <th>1999</th>\n",
       "      <td>10999</td>\n",
       "      <td>68</td>\n",
       "      <td>2</td>\n",
       "      <td>2</td>\n",
       "      <td>5</td>\n",
       "      <td>155</td>\n",
       "      <td>5</td>\n",
       "      <td>3</td>\n",
       "      <td>1</td>\n",
       "      <td>6</td>\n",
       "      <td>1639</td>\n",
       "      <td>NaN</td>\n",
       "    </tr>\n",
       "  </tbody>\n",
       "</table>\n",
       "<p>10999 rows × 12 columns</p>\n",
       "</div>"
      ],
      "text/plain": [
       "         ID  Warehouse_block  Mode_of_Shipment  Customer_care_calls  \\\n",
       "0         1               68                 1                    4   \n",
       "1         2               70                 1                    4   \n",
       "2         3               65                 1                    2   \n",
       "3         4               66                 1                    3   \n",
       "4         5               67                 1                    2   \n",
       "...     ...              ...               ...                  ...   \n",
       "1995  10995               65                 2                    4   \n",
       "1996  10996               66                 2                    4   \n",
       "1997  10997               67                 2                    5   \n",
       "1998  10998               70                 2                    5   \n",
       "1999  10999               68                 2                    2   \n",
       "\n",
       "      Customer_rating  Cost_of_the_Product  Prior_purchases  \\\n",
       "0                   2                  177                3   \n",
       "1                   5                  216                2   \n",
       "2                   2                  183                4   \n",
       "3                   3                  176                4   \n",
       "4                   2                  184                3   \n",
       "...               ...                  ...              ...   \n",
       "1995                1                  252                5   \n",
       "1996                1                  232                5   \n",
       "1997                4                  242                5   \n",
       "1998                2                  223                6   \n",
       "1999                5                  155                5   \n",
       "\n",
       "      Product_importance  Gender  Discount_offered  Weight_in_gms  Reached  \n",
       "0                      3       1                44           1233      1.0  \n",
       "1                      3       0                59           3088      1.0  \n",
       "2                      3       0                48           3374      1.0  \n",
       "3                      2       0                10           1177      1.0  \n",
       "4                      2       1                46           2484      1.0  \n",
       "...                  ...     ...               ...            ...      ...  \n",
       "1995                   2       1                 1           1538      NaN  \n",
       "1996                   2       1                 6           1247      NaN  \n",
       "1997                   3       1                 4           1155      NaN  \n",
       "1998                   2       0                 2           1210      NaN  \n",
       "1999                   3       1                 6           1639      NaN  \n",
       "\n",
       "[10999 rows x 12 columns]"
      ]
     },
     "execution_count": 13,
     "metadata": {},
     "output_type": "execute_result"
    }
   ],
   "source": [
    "df"
   ]
  },
  {
   "cell_type": "markdown",
   "metadata": {},
   "source": [
    "visualizamos en un histograma  la variable a predecir  "
   ]
  },
  {
   "cell_type": "code",
   "execution_count": 14,
   "metadata": {},
   "outputs": [
    {
     "data": {
      "text/plain": [
       "<AxesSubplot:>"
      ]
     },
     "execution_count": 14,
     "metadata": {},
     "output_type": "execute_result"
    },
    {
     "data": {
      "image/png": "[encoded data removed]",
      "text/plain": [
       "<Figure size 432x288 with 1 Axes>"
      ]
     },
     "metadata": {
      "needs_background": "light"
     },
     "output_type": "display_data"
    }
   ],
   "source": [
    "df.Reached.hist()"
   ]
  },
  {
   "cell_type": "markdown",
   "metadata": {},
   "source": [
    "Analizamos que nuestra columna Discount_offered no tenga datos atipicos "
   ]
  },
  {
   "cell_type": "code",
   "execution_count": 15,
   "metadata": {},
   "outputs": [
    {
     "name": "stdout",
     "output_type": "stream",
     "text": [
      "(array([], dtype=int64),)\n"
     ]
    },
    {
     "name": "stderr",
     "output_type": "stream",
     "text": [
      "c:\\Users\\User\\AppData\\Local\\Programs\\Python\\Python39\\lib\\site-packages\\seaborn\\_decorators.py:36: FutureWarning: Pass the following variable as a keyword arg: x. From version 0.12, the only valid positional argument will be `data`, and passing other arguments without an explicit keyword will result in an error or misinterpretation.\n",
      "  warnings.warn(\n"
     ]
    },
    {
     "data": {
      "text/plain": [
       "<AxesSubplot:xlabel='Discount_offered'>"
      ]
     },
     "execution_count": 15,
     "metadata": {},
     "output_type": "execute_result"
    },
    {
     "data": {
      "image/png": "[encoded data removed]",
      "text/plain": [
       "<Figure size 432x288 with 1 Axes>"
      ]
     },
     "metadata": {
      "needs_background": "light"
     },
     "output_type": "display_data"
    }
   ],
   "source": [
    "print(np.where(df['Discount_offered']>65))\n",
    "sns.boxplot(df['Discount_offered'])\n"
   ]
  },
  {
   "cell_type": "markdown",
   "metadata": {},
   "source": [
    "creamo una grafica de correlacion "
   ]
  },
  {
   "cell_type": "code",
   "execution_count": 16,
   "metadata": {},
   "outputs": [
    {
     "data": {
      "text/plain": [
       "<AxesSubplot:>"
      ]
     },
     "execution_count": 16,
     "metadata": {},
     "output_type": "execute_result"
    },
    {
     "data": {
      "image/png": "[encoded data removed]",
      "text/plain": [
       "<Figure size 432x288 with 2 Axes>"
      ]
     },
     "metadata": {},
     "output_type": "display_data"
    }
   ],
   "source": [
    "colum_int =[\"Warehouse_block\",\"Customer_care_calls\",\"Customer_rating\",\"Cost_of_the_Product\",\"Prior_purchases\",\"Gender\",\"Product_importance\",\"Discount_offered\",\"Reached\"]\n",
    "cm =  np.corrcoef(df[colum_int].values.T)\n",
    "sns.set(font_scale=0.8)\n",
    "sns.heatmap(cm,annot=True , yticklabels=colum_int, xticklabels=colum_int)"
   ]
  },
  {
   "cell_type": "markdown",
   "metadata": {},
   "source": [
    "AHORA VOLVEMOS A SEPARAR NUESTROS DAFRAME QUE UNIMO AL PRINCIPIO ESTA VEZ YA SE ENCUENTRAN EN FORMATO NUMERICO TODOS NUESTROS CAMPOS "
   ]
  },
  {
   "cell_type": "markdown",
   "metadata": {},
   "source": [
    "volvemos a separar nuestros datos ya convertido en numeros "
   ]
  },
  {
   "cell_type": "markdown",
   "metadata": {},
   "source": [
    "nuetro primer datafrme se llamara  data_train que son los datos de nuestor archivo de entrenamiento "
   ]
  },
  {
   "cell_type": "code",
   "execution_count": 17,
   "metadata": {},
   "outputs": [
    {
     "name": "stderr",
     "output_type": "stream",
     "text": [
      "C:\\Users\\User\\AppData\\Local\\Temp\\ipykernel_27812\\3810398256.py:2: SettingWithCopyWarning: \n",
      "A value is trying to be set on a copy of a slice from a DataFrame.\n",
      "Try using .loc[row_indexer,col_indexer] = value instead\n",
      "\n",
      "See the caveats in the documentation: https://pandas.pydata.org/pandas-docs/stable/user_guide/indexing.html#returning-a-view-versus-a-copy\n",
      "  data_train['Reached'] = data_train['Reached'].astype(np.int64)\n"
     ]
    }
   ],
   "source": [
    "data_train = df.dropna()\n",
    "data_train['Reached'] = data_train['Reached'].astype(np.int64)\n",
    "data_train=data_train.drop(['ID'], axis=1)"
   ]
  },
  {
   "cell_type": "markdown",
   "metadata": {},
   "source": [
    "nuestro  segundo dataframe  se llamara data_test el cual contiene datos del archivo test "
   ]
  },
  {
   "cell_type": "code",
   "execution_count": 18,
   "metadata": {},
   "outputs": [],
   "source": [
    "data_test = df.iloc[8999:] # tomamos todos los datos apartir del 8999 para neustro dataframe data_test\n",
    "data_test=data_test.drop(['Reached'], axis=1)\n",
    "data_test=data_test.drop(['ID'], axis=1)"
   ]
  },
  {
   "cell_type": "markdown",
   "metadata": {},
   "source": [
    "nos fijamos cuatos datos tenemos 1 y 0  del campo Reached"
   ]
  },
  {
   "cell_type": "code",
   "execution_count": 19,
   "metadata": {},
   "outputs": [
    {
     "data": {
      "text/plain": [
       "(5719, 3280)"
      ]
     },
     "execution_count": 19,
     "metadata": {},
     "output_type": "execute_result"
    }
   ],
   "source": [
    "unos = data_train.Reached.sum()\n",
    "ceros = data_train.Reached.shape[0]-unos\n",
    "unos,ceros"
   ]
  },
  {
   "cell_type": "markdown",
   "metadata": {},
   "source": [
    "mostramos las correlaciones de nuestra dataframe data_train "
   ]
  },
  {
   "cell_type": "code",
   "execution_count": 20,
   "metadata": {},
   "outputs": [
    {
     "data": {
      "text/html": [
       "<div>\n",
       "<style scoped>\n",
       "    .dataframe tbody tr th:only-of-type {\n",
       "        vertical-align: middle;\n",
       "    }\n",
       "\n",
       "    .dataframe tbody tr th {\n",
       "        vertical-align: top;\n",
       "    }\n",
       "\n",
       "    .dataframe thead th {\n",
       "        text-align: right;\n",
       "    }\n",
       "</style>\n",
       "<table border=\"1\" class=\"dataframe\">\n",
       "  <thead>\n",
       "    <tr style=\"text-align: right;\">\n",
       "      <th></th>\n",
       "      <th>Warehouse_block</th>\n",
       "      <th>Mode_of_Shipment</th>\n",
       "      <th>Customer_care_calls</th>\n",
       "      <th>Customer_rating</th>\n",
       "      <th>Cost_of_the_Product</th>\n",
       "      <th>Prior_purchases</th>\n",
       "      <th>Product_importance</th>\n",
       "      <th>Gender</th>\n",
       "      <th>Discount_offered</th>\n",
       "      <th>Weight_in_gms</th>\n",
       "      <th>Reached</th>\n",
       "    </tr>\n",
       "  </thead>\n",
       "  <tbody>\n",
       "    <tr>\n",
       "      <th>Warehouse_block</th>\n",
       "      <td>1.000000</td>\n",
       "      <td>-0.000070</td>\n",
       "      <td>0.007160</td>\n",
       "      <td>0.003795</td>\n",
       "      <td>-0.010159</td>\n",
       "      <td>-0.010097</td>\n",
       "      <td>0.005282</td>\n",
       "      <td>0.000414</td>\n",
       "      <td>0.013715</td>\n",
       "      <td>0.005122</td>\n",
       "      <td>0.002182</td>\n",
       "    </tr>\n",
       "    <tr>\n",
       "      <th>Mode_of_Shipment</th>\n",
       "      <td>-0.000070</td>\n",
       "      <td>1.000000</td>\n",
       "      <td>-0.020146</td>\n",
       "      <td>0.009307</td>\n",
       "      <td>-0.003160</td>\n",
       "      <td>-0.006325</td>\n",
       "      <td>0.007733</td>\n",
       "      <td>0.017129</td>\n",
       "      <td>-0.000365</td>\n",
       "      <td>0.015514</td>\n",
       "      <td>-0.016414</td>\n",
       "    </tr>\n",
       "    <tr>\n",
       "      <th>Customer_care_calls</th>\n",
       "      <td>0.007160</td>\n",
       "      <td>-0.020146</td>\n",
       "      <td>1.000000</td>\n",
       "      <td>0.012131</td>\n",
       "      <td>0.318109</td>\n",
       "      <td>0.164541</td>\n",
       "      <td>0.052032</td>\n",
       "      <td>-0.008706</td>\n",
       "      <td>-0.128805</td>\n",
       "      <td>-0.237731</td>\n",
       "      <td>-0.072261</td>\n",
       "    </tr>\n",
       "    <tr>\n",
       "      <th>Customer_rating</th>\n",
       "      <td>0.003795</td>\n",
       "      <td>0.009307</td>\n",
       "      <td>0.012131</td>\n",
       "      <td>1.000000</td>\n",
       "      <td>0.009818</td>\n",
       "      <td>0.015606</td>\n",
       "      <td>-0.005401</td>\n",
       "      <td>-0.000361</td>\n",
       "      <td>-0.004315</td>\n",
       "      <td>-0.000227</td>\n",
       "      <td>0.011045</td>\n",
       "    </tr>\n",
       "    <tr>\n",
       "      <th>Cost_of_the_Product</th>\n",
       "      <td>-0.010159</td>\n",
       "      <td>-0.003160</td>\n",
       "      <td>0.318109</td>\n",
       "      <td>0.009818</td>\n",
       "      <td>1.000000</td>\n",
       "      <td>0.100637</td>\n",
       "      <td>0.048838</td>\n",
       "      <td>-0.022150</td>\n",
       "      <td>-0.138259</td>\n",
       "      <td>-0.057113</td>\n",
       "      <td>-0.083470</td>\n",
       "    </tr>\n",
       "    <tr>\n",
       "      <th>Prior_purchases</th>\n",
       "      <td>-0.010097</td>\n",
       "      <td>-0.006325</td>\n",
       "      <td>0.164541</td>\n",
       "      <td>0.015606</td>\n",
       "      <td>0.100637</td>\n",
       "      <td>1.000000</td>\n",
       "      <td>-0.043032</td>\n",
       "      <td>0.003886</td>\n",
       "      <td>-0.072634</td>\n",
       "      <td>-0.113060</td>\n",
       "      <td>-0.048269</td>\n",
       "    </tr>\n",
       "    <tr>\n",
       "      <th>Product_importance</th>\n",
       "      <td>0.005282</td>\n",
       "      <td>0.007733</td>\n",
       "      <td>0.052032</td>\n",
       "      <td>-0.005401</td>\n",
       "      <td>0.048838</td>\n",
       "      <td>-0.043032</td>\n",
       "      <td>1.000000</td>\n",
       "      <td>-0.006547</td>\n",
       "      <td>-0.020371</td>\n",
       "      <td>-0.088788</td>\n",
       "      <td>-0.014361</td>\n",
       "    </tr>\n",
       "    <tr>\n",
       "      <th>Gender</th>\n",
       "      <td>0.000414</td>\n",
       "      <td>0.017129</td>\n",
       "      <td>-0.008706</td>\n",
       "      <td>-0.000361</td>\n",
       "      <td>-0.022150</td>\n",
       "      <td>0.003886</td>\n",
       "      <td>-0.006547</td>\n",
       "      <td>1.000000</td>\n",
       "      <td>0.012960</td>\n",
       "      <td>0.001309</td>\n",
       "      <td>-0.002881</td>\n",
       "    </tr>\n",
       "    <tr>\n",
       "      <th>Discount_offered</th>\n",
       "      <td>0.013715</td>\n",
       "      <td>-0.000365</td>\n",
       "      <td>-0.128805</td>\n",
       "      <td>-0.004315</td>\n",
       "      <td>-0.138259</td>\n",
       "      <td>-0.072634</td>\n",
       "      <td>-0.020371</td>\n",
       "      <td>0.012960</td>\n",
       "      <td>1.000000</td>\n",
       "      <td>-0.417782</td>\n",
       "      <td>0.416357</td>\n",
       "    </tr>\n",
       "    <tr>\n",
       "      <th>Weight_in_gms</th>\n",
       "      <td>0.005122</td>\n",
       "      <td>0.015514</td>\n",
       "      <td>-0.237731</td>\n",
       "      <td>-0.000227</td>\n",
       "      <td>-0.057113</td>\n",
       "      <td>-0.113060</td>\n",
       "      <td>-0.088788</td>\n",
       "      <td>0.001309</td>\n",
       "      <td>-0.417782</td>\n",
       "      <td>1.000000</td>\n",
       "      <td>-0.326877</td>\n",
       "    </tr>\n",
       "    <tr>\n",
       "      <th>Reached</th>\n",
       "      <td>0.002182</td>\n",
       "      <td>-0.016414</td>\n",
       "      <td>-0.072261</td>\n",
       "      <td>0.011045</td>\n",
       "      <td>-0.083470</td>\n",
       "      <td>-0.048269</td>\n",
       "      <td>-0.014361</td>\n",
       "      <td>-0.002881</td>\n",
       "      <td>0.416357</td>\n",
       "      <td>-0.326877</td>\n",
       "      <td>1.000000</td>\n",
       "    </tr>\n",
       "  </tbody>\n",
       "</table>\n",
       "</div>"
      ],
      "text/plain": [
       "                     Warehouse_block  Mode_of_Shipment  Customer_care_calls  \\\n",
       "Warehouse_block             1.000000         -0.000070             0.007160   \n",
       "Mode_of_Shipment           -0.000070          1.000000            -0.020146   \n",
       "Customer_care_calls         0.007160         -0.020146             1.000000   \n",
       "Customer_rating             0.003795          0.009307             0.012131   \n",
       "Cost_of_the_Product        -0.010159         -0.003160             0.318109   \n",
       "Prior_purchases            -0.010097         -0.006325             0.164541   \n",
       "Product_importance          0.005282          0.007733             0.052032   \n",
       "Gender                      0.000414          0.017129            -0.008706   \n",
       "Discount_offered            0.013715         -0.000365            -0.128805   \n",
       "Weight_in_gms               0.005122          0.015514            -0.237731   \n",
       "Reached                     0.002182         -0.016414            -0.072261   \n",
       "\n",
       "                     Customer_rating  Cost_of_the_Product  Prior_purchases  \\\n",
       "Warehouse_block             0.003795            -0.010159        -0.010097   \n",
       "Mode_of_Shipment            0.009307            -0.003160        -0.006325   \n",
       "Customer_care_calls         0.012131             0.318109         0.164541   \n",
       "Customer_rating             1.000000             0.009818         0.015606   \n",
       "Cost_of_the_Product         0.009818             1.000000         0.100637   \n",
       "Prior_purchases             0.015606             0.100637         1.000000   \n",
       "Product_importance         -0.005401             0.048838        -0.043032   \n",
       "Gender                     -0.000361            -0.022150         0.003886   \n",
       "Discount_offered           -0.004315            -0.138259        -0.072634   \n",
       "Weight_in_gms              -0.000227            -0.057113        -0.113060   \n",
       "Reached                     0.011045            -0.083470        -0.048269   \n",
       "\n",
       "                     Product_importance    Gender  Discount_offered  \\\n",
       "Warehouse_block                0.005282  0.000414          0.013715   \n",
       "Mode_of_Shipment               0.007733  0.017129         -0.000365   \n",
       "Customer_care_calls            0.052032 -0.008706         -0.128805   \n",
       "Customer_rating               -0.005401 -0.000361         -0.004315   \n",
       "Cost_of_the_Product            0.048838 -0.022150         -0.138259   \n",
       "Prior_purchases               -0.043032  0.003886         -0.072634   \n",
       "Product_importance             1.000000 -0.006547         -0.020371   \n",
       "Gender                        -0.006547  1.000000          0.012960   \n",
       "Discount_offered              -0.020371  0.012960          1.000000   \n",
       "Weight_in_gms                 -0.088788  0.001309         -0.417782   \n",
       "Reached                       -0.014361 -0.002881          0.416357   \n",
       "\n",
       "                     Weight_in_gms   Reached  \n",
       "Warehouse_block           0.005122  0.002182  \n",
       "Mode_of_Shipment          0.015514 -0.016414  \n",
       "Customer_care_calls      -0.237731 -0.072261  \n",
       "Customer_rating          -0.000227  0.011045  \n",
       "Cost_of_the_Product      -0.057113 -0.083470  \n",
       "Prior_purchases          -0.113060 -0.048269  \n",
       "Product_importance       -0.088788 -0.014361  \n",
       "Gender                    0.001309 -0.002881  \n",
       "Discount_offered         -0.417782  0.416357  \n",
       "Weight_in_gms             1.000000 -0.326877  \n",
       "Reached                  -0.326877  1.000000  "
      ]
     },
     "execution_count": 20,
     "metadata": {},
     "output_type": "execute_result"
    }
   ],
   "source": [
    "data_train.corr() "
   ]
  },
  {
   "cell_type": "code",
   "execution_count": 21,
   "metadata": {},
   "outputs": [
    {
     "data": {
      "text/plain": [
       "0.6355150572285809"
      ]
     },
     "execution_count": 21,
     "metadata": {},
     "output_type": "execute_result"
    }
   ],
   "source": [
    "np.average(data_train.Reached)"
   ]
  },
  {
   "cell_type": "code",
   "execution_count": 22,
   "metadata": {},
   "outputs": [
    {
     "name": "stdout",
     "output_type": "stream",
     "text": [
      "<class 'pandas.core.frame.DataFrame'>\n",
      "Int64Index: 8999 entries, 0 to 8998\n",
      "Data columns (total 11 columns):\n",
      " #   Column               Non-Null Count  Dtype\n",
      "---  ------               --------------  -----\n",
      " 0   Warehouse_block      8999 non-null   int32\n",
      " 1   Mode_of_Shipment     8999 non-null   int64\n",
      " 2   Customer_care_calls  8999 non-null   int64\n",
      " 3   Customer_rating      8999 non-null   int64\n",
      " 4   Cost_of_the_Product  8999 non-null   int64\n",
      " 5   Prior_purchases      8999 non-null   int64\n",
      " 6   Product_importance   8999 non-null   int64\n",
      " 7   Gender               8999 non-null   int64\n",
      " 8   Discount_offered     8999 non-null   int64\n",
      " 9   Weight_in_gms        8999 non-null   int64\n",
      " 10  Reached              8999 non-null   int64\n",
      "dtypes: int32(1), int64(10)\n",
      "memory usage: 808.5 KB\n"
     ]
    }
   ],
   "source": [
    "data_train.info(9)"
   ]
  },
  {
   "cell_type": "markdown",
   "metadata": {},
   "source": [
    "----------------------------------------------------------------------------------------------------------------------------------------"
   ]
  },
  {
   "cell_type": "markdown",
   "metadata": {},
   "source": [
    "regresion logistica - con  balanceo  SMOTETomek"
   ]
  },
  {
   "cell_type": "code",
   "execution_count": 23,
   "metadata": {},
   "outputs": [
    {
     "name": "stdout",
     "output_type": "stream",
     "text": [
      "'1': 4038\n",
      "'0': 2261 \n",
      "\n",
      " despues train_X: (7268, 4)\n",
      " despues train_y: (7268,) \n",
      "\n",
      " despues label '1': 3634\n",
      "despues label '0': 3634\n",
      "              precision    recall  f1-score   support\n",
      "\n",
      "           0       0.55      0.88      0.67      1019\n",
      "           1       0.89      0.56      0.68      1681\n",
      "\n",
      "    accuracy                           0.68      2700\n",
      "   macro avg       0.72      0.72      0.68      2700\n",
      "weighted avg       0.76      0.68      0.68      2700\n",
      "\n",
      "[0.88223749 0.55562165]\n",
      "[[899 120]\n",
      " [747 934]]\n"
     ]
    }
   ],
   "source": [
    "feature_cols = [\"Customer_care_calls\",\"Cost_of_the_Product\",\"Discount_offered\",\"Weight_in_gms\"]\n",
    "x = data_train[feature_cols]\n",
    "y = data_train.Reached\n",
    "X_train, X_test, y_train, y_test = train_test_split(x, y, test_size = 0.30, random_state = 52)\n",
    "print(\"'1': {}\".format(sum(y_train == 1))) \n",
    "print(\"'0': {} \\n\".format(sum(y_train == 0))) \n",
    "\n",
    "#balanceamos nuestros datos con SMOTE\n",
    "from imblearn.combine import SMOTETomek \n",
    "\n",
    "smt = SMOTETomek() \n",
    "X_train_res, y_train_res = smt.fit_resample(X_train, y_train.ravel()) \n",
    "  \n",
    "#mostramos el balanceo\n",
    "print(' despues train_X: {}'.format(X_train_res.shape)) \n",
    "print(' despues train_y: {} \\n'.format(y_train_res.shape)) \n",
    "  \n",
    "print(\" despues label '1': {}\".format(sum(y_train_res == 1))) \n",
    "print(\"despues label '0': {}\".format(sum(y_train_res == 0))) \n",
    "#scalamos nustros datos \n",
    "from  sklearn.preprocessing import  StandardScaler\n",
    "sc =  StandardScaler()\n",
    "X_train_res =sc.fit_transform(X_train_res)\n",
    "X_test= sc.transform(X_test)\n",
    "#entrenamos nuestro modelo \n",
    "modelo_logistico = LogisticRegression() \n",
    "modelo_logistico.fit(X_train_res, y_train_res.ravel()) \n",
    "predictions = modelo_logistico.predict(X_test) \n",
    "print(classification_report(y_test, predictions)) \n",
    "from sklearn.metrics import recall_score\n",
    "print(recall_score(y_test, predictions, average=None))\n",
    "print (confusion_matrix(y_test,predictions))#mostramos la matris de confucion para ver cuantos datos estna prediciendo  0 y 1\n"
   ]
  },
  {
   "cell_type": "markdown",
   "metadata": {},
   "source": [
    "----------------------------------------------------------------------------------------------------------------------------------------"
   ]
  },
  {
   "cell_type": "markdown",
   "metadata": {},
   "source": [
    "utilizaremos nuestro dataframe data_test que contiene datos para pedecir , esogeremos las mismas columnas a la hora  de entrenarlo "
   ]
  },
  {
   "cell_type": "code",
   "execution_count": 24,
   "metadata": {},
   "outputs": [
    {
     "name": "stderr",
     "output_type": "stream",
     "text": [
      "c:\\Users\\User\\AppData\\Local\\Programs\\Python\\Python39\\lib\\site-packages\\sklearn\\base.py:443: UserWarning: X has feature names, but LogisticRegression was fitted without feature names\n",
      "  warnings.warn(\n"
     ]
    },
    {
     "data": {
      "text/plain": [
       "array([0, 0, 0, ..., 0, 0, 0], dtype=int64)"
      ]
     },
     "execution_count": 24,
     "metadata": {},
     "output_type": "execute_result"
    }
   ],
   "source": [
    "feature_cols = [\"Customer_care_calls\",\"Cost_of_the_Product\",\"Discount_offered\",\"Weight_in_gms\"]\n",
    "data_test= data_test[feature_cols]\n",
    "predictions_test = modelo_logistico.predict(data_test) \n",
    "predictions_test"
   ]
  },
  {
   "cell_type": "markdown",
   "metadata": {},
   "source": [
    "creamos un dataframe para almecenar nuestros resultados "
   ]
  },
  {
   "cell_type": "code",
   "execution_count": 25,
   "metadata": {},
   "outputs": [],
   "source": [
    "from sklearn.metrics import accuracy_score \n",
    "from  sklearn.metrics import  confusion_matrix\n",
    "columnas = ['pred'] # definimos los nombres de las columnas\n",
    "df_predic = pd.DataFrame(predictions_test,columns=columnas) \n",
    "df_predic.to_csv(\"josleo.csv\",index=False)#exportamos los resutladoresultadoss "
   ]
  }
 ],
 "metadata": {
  "kernelspec": {
   "display_name": "Python 3.9.7 64-bit",
   "language": "python",
   "name": "python3"
  },
  "language_info": {
   "codemirror_mode": {
    "name": "ipython",
    "version": 3
   },
   "file_extension": ".py",
   "mimetype": "text/x-python",
   "name": "python",
   "nbconvert_exporter": "python",
   "pygments_lexer": "ipython3",
   "version": "3.9.7"
  },
  "orig_nbformat": 4,
  "vscode": {
   "interpreter": {
    "hash": "cf92aa13fedf815d5c8dd192b8d835913fde3e8bc926b2a0ad6cc74ef2ba3ca2"
   }
  }
 },
 "nbformat": 4,
 "nbformat_minor": 2
}
